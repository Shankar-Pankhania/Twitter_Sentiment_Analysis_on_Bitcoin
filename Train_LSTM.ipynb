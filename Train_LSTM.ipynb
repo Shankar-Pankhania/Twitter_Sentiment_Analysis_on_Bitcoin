{
  "nbformat": 4,
  "nbformat_minor": 0,
  "metadata": {
    "colab": {
      "name": "Train_LSTM.ipynb",
      "provenance": [],
      "authorship_tag": "ABX9TyMccqf9TUnqlL21dHeVADf+",
      "include_colab_link": true
    },
    "kernelspec": {
      "name": "python3",
      "display_name": "Python 3"
    },
    "language_info": {
      "name": "python"
    },
    "accelerator": "GPU"
  },
  "cells": [
    {
      "cell_type": "markdown",
      "metadata": {
        "id": "view-in-github",
        "colab_type": "text"
      },
      "source": [
        "<a href=\"https://colab.research.google.com/github/Shankar-Pankhania/Twitter_Sentiment_Analysis_on_Bitcoin/blob/main/Train_LSTM.ipynb\" target=\"_parent\"><img src=\"https://colab.research.google.com/assets/colab-badge.svg\" alt=\"Open In Colab\"/></a>"
      ]
    },
    {
      "cell_type": "code",
      "metadata": {
        "colab": {
          "base_uri": "https://localhost:8080/"
        },
        "id": "T8smQkhL69al",
        "outputId": "26b8148d-277b-4d1a-bde8-df373e45bb59"
      },
      "source": [
        "from google.colab import drive \n",
        "drive.mount('/content/drive/')\n",
        "%cd /content/drive/My Drive/Dissertation/"
      ],
      "execution_count": 2,
      "outputs": [
        {
          "output_type": "stream",
          "text": [
            "Mounted at /content/drive/\n",
            "/content/drive/My Drive/Dissertation\n"
          ],
          "name": "stdout"
        }
      ]
    },
    {
      "cell_type": "markdown",
      "metadata": {
        "id": "A34lDvJLSKe4"
      },
      "source": [
        "Import packages"
      ]
    },
    {
      "cell_type": "code",
      "metadata": {
        "colab": {
          "base_uri": "https://localhost:8080/"
        },
        "id": "kXgSQounRFAc",
        "outputId": "3ae39cbe-3555-4063-e769-fadf2c1834b1"
      },
      "source": [
        "import numpy as np\n",
        "import pandas as pd\n",
        "import tensorflow as tf\n",
        "import matplotlib.pyplot as plt\n",
        "from sklearn.metrics import confusion_matrix\n",
        "from tensorflow.keras.preprocessing.text import Tokenizer\n",
        "from tensorflow.keras.preprocessing.sequence import pad_sequences\n",
        "from tensorflow.keras.models import Sequential\n",
        "from tensorflow.keras.layers import Dense, Embedding, SpatialDropout1D, Conv1D, MaxPooling1D\n",
        "from sklearn.model_selection import train_test_split\n",
        "from keras.utils.np_utils import to_categorical\n",
        "import re\n",
        "from tensorflow.compat.v1.keras.layers import CuDNNLSTM\n",
        "from sklearn import model_selection\n",
        "from sklearn.model_selection import KFold\n",
        "from sklearn.metrics import classification_report\n",
        "from sklearn.metrics import roc_curve\n",
        "from sklearn.metrics import auc\n",
        "tf.config.list_physical_devices('GPU')   #check GPU connected"
      ],
      "execution_count": 4,
      "outputs": [
        {
          "output_type": "execute_result",
          "data": {
            "text/plain": [
              "[PhysicalDevice(name='/physical_device:GPU:0', device_type='GPU')]"
            ]
          },
          "metadata": {
            "tags": []
          },
          "execution_count": 4
        }
      ]
    },
    {
      "cell_type": "markdown",
      "metadata": {
        "id": "Sdm5KbVPWlHo"
      },
      "source": [
        "Read dataset"
      ]
    },
    {
      "cell_type": "code",
      "metadata": {
        "id": "eFvzgJ6S7ZVP"
      },
      "source": [
        "total_dataset = pd.read_csv('bitcoin_tweets.csv')\n",
        "total_dataset = total_dataset[total_dataset.sentiment != 0] #remove neutral tweets, only need positve and negative sentiments.\n",
        "total_dataset['sentiment'] = total_dataset['sentiment'].replace(-1, 0) #replaces negative sentiment -1 with 0 for analysis"
      ],
      "execution_count": 5,
      "outputs": []
    },
    {
      "cell_type": "markdown",
      "metadata": {
        "id": "xdntfzuKobYp"
      },
      "source": [
        "Tokenizer"
      ]
    },
    {
      "cell_type": "code",
      "metadata": {
        "id": "UaMBOLPZoavl"
      },
      "source": [
        "max_fatures = 2000\n",
        "tokenizer = Tokenizer(num_words=max_fatures)#(ngram_range=(1,2)\n",
        "tokenizer.fit_on_texts(total_dataset['processed_tweet'].values)\n",
        "X = tokenizer.texts_to_sequences(total_dataset['processed_tweet'].values)\n",
        "X = pad_sequences(X)"
      ],
      "execution_count": 6,
      "outputs": []
    },
    {
      "cell_type": "markdown",
      "metadata": {
        "id": "rIFMIjb_8aPW"
      },
      "source": [
        "LSTM Network"
      ]
    },
    {
      "cell_type": "code",
      "metadata": {
        "colab": {
          "base_uri": "https://localhost:8080/"
        },
        "id": "Ey5LH5d28cda",
        "outputId": "6e20816b-67d2-45fa-a0e0-31bc6c17a94d"
      },
      "source": [
        "embed_dim = 128\n",
        "\n",
        "model = Sequential()\n",
        "model.add(Embedding(2000, embed_dim,input_length = X.shape[1]))\n",
        "model.add(SpatialDropout1D(0.4))\n",
        "model.add(Conv1D(64, 5, activation='tanh'))\n",
        "model.add(MaxPooling1D(pool_size=4))\n",
        "model.add(CuDNNLSTM(128))\n",
        "model.add(Dense(2,activation='softmax'))\n",
        "model.compile(loss = 'categorical_crossentropy', optimizer='adam',metrics = ['accuracy'])\n",
        "print(model.summary())"
      ],
      "execution_count": 7,
      "outputs": [
        {
          "output_type": "stream",
          "text": [
            "Model: \"sequential\"\n",
            "_________________________________________________________________\n",
            "Layer (type)                 Output Shape              Param #   \n",
            "=================================================================\n",
            "embedding (Embedding)        (None, 116, 128)          256000    \n",
            "_________________________________________________________________\n",
            "spatial_dropout1d (SpatialDr (None, 116, 128)          0         \n",
            "_________________________________________________________________\n",
            "conv1d (Conv1D)              (None, 112, 64)           41024     \n",
            "_________________________________________________________________\n",
            "max_pooling1d (MaxPooling1D) (None, 28, 64)            0         \n",
            "_________________________________________________________________\n",
            "cu_dnnlstm (CuDNNLSTM)       (None, 128)               99328     \n",
            "_________________________________________________________________\n",
            "dense (Dense)                (None, 2)                 258       \n",
            "=================================================================\n",
            "Total params: 396,610\n",
            "Trainable params: 396,610\n",
            "Non-trainable params: 0\n",
            "_________________________________________________________________\n",
            "None\n"
          ],
          "name": "stdout"
        }
      ]
    },
    {
      "cell_type": "markdown",
      "metadata": {
        "id": "2wCNpFooiBVV"
      },
      "source": [
        "Splitting"
      ]
    },
    {
      "cell_type": "code",
      "metadata": {
        "colab": {
          "base_uri": "https://localhost:8080/"
        },
        "id": "gVWe_5yELg5J",
        "outputId": "04196f0d-3fab-4433-8f58-1f0958eea8e7"
      },
      "source": [
        "Y = pd.get_dummies(total_dataset['sentiment']).values\n",
        "X_train, X_test, Y_train, Y_test = train_test_split(X,Y, test_size = 0.2, random_state = 69)\n",
        "print(X_train.shape,Y_train.shape)\n",
        "print(X_test.shape,Y_test.shape)"
      ],
      "execution_count": 8,
      "outputs": [
        {
          "output_type": "stream",
          "text": [
            "(57056, 116) (57056, 2)\n",
            "(14264, 116) (14264, 2)\n"
          ],
          "name": "stdout"
        }
      ]
    },
    {
      "cell_type": "markdown",
      "metadata": {
        "id": "UaHDUMxaCBXM"
      },
      "source": [
        "K Fold Cross Validation for Naive Bayes"
      ]
    },
    {
      "cell_type": "code",
      "metadata": {
        "id": "YfxoIPZ0CEo0"
      },
      "source": [
        "#The code below has been commented out because we will be using test/train split for this sentiment analysis. If you would like to check, please uncomment the code and comment the test/train split code and run the whole code again.\n",
        "\n",
        "\"\"\"\n",
        "num_folds = 10 \n",
        "# Parse numbers as floats\n",
        "X_train = X_train.astype('float32')\n",
        "X_test = X_test.astype('float32')\n",
        "\n",
        "# Normalize data\n",
        "X_train = X_train / 255\n",
        "X_test = X_test / 255\n",
        "\n",
        "# Define per-fold score containers\n",
        "acc_per_fold = []\n",
        "loss_per_fold = []\n",
        "\n",
        "# Merge inputs and targets\n",
        "inputs = np.concatenate((X_train, X_test), axis=0)\n",
        "targets = np.concatenate((Y_train, Y_test), axis=0)\n",
        "\n",
        "# Define the K-fold Cross Validator\n",
        "kfold = KFold(n_splits=num_folds, shuffle=True)\n",
        "\n",
        "fold_no = 1\n",
        "batch_size = 32\n",
        "for train, test in kfold.split(inputs, targets):\n",
        "  \n",
        "  #fit data to model\n",
        "  model.fit(inputs[train], targets[train], epochs = 4, batch_size=batch_size, verbose = 2)\n",
        "\n",
        "  # Generate generalization metrics\n",
        "  scores = model.evaluate(inputs[test], targets[test], verbose=0)\n",
        "  print(f'Score for fold {fold_no}: {model.metrics_names[0]} of {scores[0]}; {model.metrics_names[1]} of {scores[1]*100}%')\n",
        "  acc_per_fold.append(scores[1] * 100)\n",
        "  loss_per_fold.append(scores[0])\n",
        "\n",
        "  # Increase fold number\n",
        "  fold_no = fold_no + 1\n",
        "\n",
        "\n",
        "print('Average scores for all folds:')\n",
        "print(f'> Accuracy: {np.mean(acc_per_fold)} (+- {np.std(acc_per_fold)})')\n",
        "print(f'> Loss: {np.mean(loss_per_fold)}')\n",
        "\"\"\""
      ],
      "execution_count": null,
      "outputs": []
    },
    {
      "cell_type": "markdown",
      "metadata": {
        "id": "e9FTqlEcU0q3"
      },
      "source": [
        "Train the Network\n",
        "\n"
      ]
    },
    {
      "cell_type": "code",
      "metadata": {
        "id": "ptia5UZoKShn",
        "colab": {
          "base_uri": "https://localhost:8080/"
        },
        "outputId": "c3308e53-f495-4fdf-fc65-e8d47add89c4"
      },
      "source": [
        "model.fit(X_train, Y_train, epochs = 10, validation_split=0.2)"
      ],
      "execution_count": 10,
      "outputs": [
        {
          "output_type": "stream",
          "text": [
            "Epoch 1/10\n",
            "1427/1427 [==============================] - 14s 10ms/step - loss: 0.0512 - accuracy: 0.9801 - val_loss: 0.3572 - val_accuracy: 0.9197\n",
            "Epoch 2/10\n",
            "1427/1427 [==============================] - 14s 10ms/step - loss: 0.0468 - accuracy: 0.9818 - val_loss: 0.3379 - val_accuracy: 0.9211\n",
            "Epoch 3/10\n",
            "1427/1427 [==============================] - 15s 10ms/step - loss: 0.0448 - accuracy: 0.9827 - val_loss: 0.3201 - val_accuracy: 0.9198\n",
            "Epoch 4/10\n",
            "1427/1427 [==============================] - 14s 10ms/step - loss: 0.0406 - accuracy: 0.9841 - val_loss: 0.3572 - val_accuracy: 0.9180\n",
            "Epoch 5/10\n",
            "1427/1427 [==============================] - 14s 10ms/step - loss: 0.0393 - accuracy: 0.9846 - val_loss: 0.3518 - val_accuracy: 0.9225\n",
            "Epoch 6/10\n",
            "1427/1427 [==============================] - 14s 10ms/step - loss: 0.0360 - accuracy: 0.9860 - val_loss: 0.3589 - val_accuracy: 0.9216\n",
            "Epoch 7/10\n",
            "1427/1427 [==============================] - 14s 10ms/step - loss: 0.0326 - accuracy: 0.9876 - val_loss: 0.3747 - val_accuracy: 0.9220\n",
            "Epoch 8/10\n",
            "1427/1427 [==============================] - 14s 10ms/step - loss: 0.0335 - accuracy: 0.9866 - val_loss: 0.3769 - val_accuracy: 0.9170\n",
            "Epoch 9/10\n",
            "1427/1427 [==============================] - 14s 10ms/step - loss: 0.0321 - accuracy: 0.9872 - val_loss: 0.3791 - val_accuracy: 0.9213\n",
            "Epoch 10/10\n",
            "1427/1427 [==============================] - 14s 10ms/step - loss: 0.0301 - accuracy: 0.9881 - val_loss: 0.3824 - val_accuracy: 0.9207\n"
          ],
          "name": "stdout"
        },
        {
          "output_type": "execute_result",
          "data": {
            "text/plain": [
              "<tensorflow.python.keras.callbacks.History at 0x7ff77e9ad1d0>"
            ]
          },
          "metadata": {
            "tags": []
          },
          "execution_count": 10
        }
      ]
    },
    {
      "cell_type": "markdown",
      "metadata": {
        "id": "PO-hZPeNXjUr"
      },
      "source": [
        "Accuracy"
      ]
    },
    {
      "cell_type": "code",
      "metadata": {
        "colab": {
          "base_uri": "https://localhost:8080/"
        },
        "id": "xu9-uf4-XkZm",
        "outputId": "0a17f79c-73f7-4a04-8aea-35fe0144b208"
      },
      "source": [
        "score,acc = model.evaluate(X_test, Y_test)\n",
        "print(\"Accuracy with LSTM:\" + str(acc))"
      ],
      "execution_count": 22,
      "outputs": [
        {
          "output_type": "stream",
          "text": [
            "446/446 [==============================] - 2s 4ms/step - loss: 0.3865 - accuracy: 0.9220\n",
            "Accuracy with LSTM:0.9219713807106018\n"
          ],
          "name": "stdout"
        }
      ]
    }
  ]
}