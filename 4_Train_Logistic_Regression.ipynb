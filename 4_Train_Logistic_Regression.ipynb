{
  "nbformat": 4,
  "nbformat_minor": 0,
  "metadata": {
    "colab": {
      "name": "4_Train_Logistic_Regression.ipynb",
      "provenance": [],
      "authorship_tag": "ABX9TyOX0lybAnjwBqcl6ux38gIh",
      "include_colab_link": true
    },
    "kernelspec": {
      "name": "python3",
      "display_name": "Python 3"
    },
    "language_info": {
      "name": "python"
    }
  },
  "cells": [
    {
      "cell_type": "markdown",
      "metadata": {
        "id": "view-in-github",
        "colab_type": "text"
      },
      "source": [
        "<a href=\"https://colab.research.google.com/github/Shankar-Pankhania/Twitter_Sentiment_Analysis_on_Bitcoin/blob/main/4_Train_Logistic_Regression.ipynb\" target=\"_parent\"><img src=\"https://colab.research.google.com/assets/colab-badge.svg\" alt=\"Open In Colab\"/></a>"
      ]
    },
    {
      "cell_type": "code",
      "metadata": {
        "id": "rmTjKNxDl2-p",
        "colab": {
          "base_uri": "https://localhost:8080/"
        },
        "outputId": "25e64322-3b95-4111-d953-cc1b436be4f4"
      },
      "source": [
        "from google.colab import drive \n",
        "drive.mount('/content/drive/')\n",
        "%cd /content/drive/My Drive/Dissertation/"
      ],
      "execution_count": null,
      "outputs": [
        {
          "output_type": "stream",
          "text": [
            "Drive already mounted at /content/drive/; to attempt to forcibly remount, call drive.mount(\"/content/drive/\", force_remount=True).\n",
            "/content/drive/My Drive/Dissertation\n"
          ],
          "name": "stdout"
        }
      ]
    },
    {
      "cell_type": "markdown",
      "metadata": {
        "id": "4_qhtkbNoUFf"
      },
      "source": [
        "Import the packages\n"
      ]
    },
    {
      "cell_type": "code",
      "metadata": {
        "id": "kaTAN_avoQWo"
      },
      "source": [
        "import numpy as np\n",
        "import pandas as pd\n",
        "import json, nltk\n",
        "import matplotlib.pyplot as plt\n",
        "from wordcloud import WordCloud\n",
        "import seaborn as sns\n",
        "from sklearn.feature_extraction.text import CountVectorizer\n",
        "from sklearn.feature_extraction.text import TfidfVectorizer \n",
        "from sklearn.model_selection import train_test_split\n",
        "from sklearn import model_selection\n",
        "from sklearn.model_selection import KFold\n",
        "from sklearn.linear_model import LogisticRegression\n",
        "from sklearn.metrics import confusion_matrix\n",
        "from sklearn.metrics import accuracy_score\n",
        "from sklearn.metrics import classification_report\n",
        "from sklearn.metrics import roc_curve\n",
        "from sklearn.metrics import auc"
      ],
      "execution_count": null,
      "outputs": []
    },
    {
      "cell_type": "markdown",
      "metadata": {
        "id": "1aBg9FRfR-zI"
      },
      "source": [
        "Read dataset"
      ]
    },
    {
      "cell_type": "code",
      "metadata": {
        "id": "kpyCPS0LoYAF"
      },
      "source": [
        "total_dataset = pd.read_csv('bitcoin_tweets.csv')\n",
        "total_dataset = total_dataset[total_dataset.sentiment != 0] #remove neutral tweets, only need positve and negative sentiments.\n",
        "total_dataset['sentiment'] = total_dataset['sentiment'].replace(-1, 0) #replaces negative sentiment -1 with 0 for analysis"
      ],
      "execution_count": null,
      "outputs": []
    },
    {
      "cell_type": "markdown",
      "metadata": {
        "id": "xdntfzuKobYp"
      },
      "source": [
        "Count *Vectorizer*"
      ]
    },
    {
      "cell_type": "code",
      "metadata": {
        "id": "UaMBOLPZoavl"
      },
      "source": [
        "count_vectorizer = CountVectorizer(ngram_range=(1,2))    # Unigram and Bigram\n",
        "vectorized_data = count_vectorizer.fit_transform(total_dataset['processed_tweet'].values.astype('U')) "
      ],
      "execution_count": null,
      "outputs": []
    },
    {
      "cell_type": "markdown",
      "metadata": {
        "id": "7a_i4OQeXSZs"
      },
      "source": [
        "TF-IDF Vectorizer"
      ]
    },
    {
      "cell_type": "code",
      "metadata": {
        "id": "U0BcggTXXSq0"
      },
      "source": [
        "#The code below has been commented out because we will be using count vectorizer for this sentiment analysis.\n",
        "\n",
        "#tf_idf_vectorizer = TfidfVectorizer(use_idf=True,ngram_range=(1,2)) # Unigram and Bigram\n",
        "#vectorized_data = tf_idf_vectorizer.fit_transform(total_dataset['processed_tweet'])"
      ],
      "execution_count": null,
      "outputs": []
    },
    {
      "cell_type": "markdown",
      "metadata": {
        "id": "RZ4dP2Xaoi5U"
      },
      "source": [
        "Splitting"
      ]
    },
    {
      "cell_type": "code",
      "metadata": {
        "id": "NWwEpGb8og-v"
      },
      "source": [
        "X_train, X_test, y_train, y_test = train_test_split(vectorized_data, total_dataset['sentiment'], test_size=0.2, random_state=69)"
      ],
      "execution_count": null,
      "outputs": []
    },
    {
      "cell_type": "markdown",
      "metadata": {
        "id": "UaHDUMxaCBXM"
      },
      "source": [
        "K Fold Cross Validation for Naive Bayes"
      ]
    },
    {
      "cell_type": "code",
      "metadata": {
        "id": "YfxoIPZ0CEo0"
      },
      "source": [
        "#The code below has been commented out because we will be using test/train split for this sentiment analysis. If you would like to check, please uncomment the code and comment the test/train split code and run the whole code again.\n",
        "\n",
        "#kfold = model_selection.KFold(n_splits=10, random_state=None)\n",
        "#model_kfold = LogisticRegression(solver='liblinear', random_state=0)\n",
        "#results_kfold = model_selection.cross_val_score(model_kfold, vectorized_data, total_dataset['sentiment'], cv=kfold)\n",
        "#print(\"Accuracy: \" + str(results_kfold.mean())) "
      ],
      "execution_count": null,
      "outputs": []
    },
    {
      "cell_type": "markdown",
      "metadata": {
        "id": "bhyd7Ejmot9S"
      },
      "source": [
        "Logistic *regression*"
      ]
    },
    {
      "cell_type": "code",
      "metadata": {
        "id": "drbf4ENboutN"
      },
      "source": [
        "# liblinear solver (L1 regularization) has been used for this classifier as we have a high dimension dataset.\n",
        "logisticRegr = LogisticRegression(solver='liblinear', random_state=0).fit(X_train, y_train)\n",
        "predicted_logisticRegr = logisticRegr.predict(X_test)"
      ],
      "execution_count": null,
      "outputs": []
    },
    {
      "cell_type": "markdown",
      "metadata": {
        "id": "hz2EaFtSo8zL"
      },
      "source": [
        "Confusion Matrix"
      ]
    },
    {
      "cell_type": "code",
      "metadata": {
        "id": "hpIcNjvCo_Ij",
        "colab": {
          "base_uri": "https://localhost:8080/",
          "height": 404
        },
        "outputId": "2955413d-d46d-4171-8a0e-4b0336f271aa"
      },
      "source": [
        "plt.figure(dpi=100) #plot high quality matrix\n",
        "mat = confusion_matrix(y_test, predicted_logisticRegr)\n",
        "sns.heatmap(mat.T, annot=True, fmt='d', cbar=False)\n",
        "\n",
        "plt.title('Confusion Matrix for Logistic Regression')\n",
        "plt.xlabel('predicted label')\n",
        "plt.ylabel('true label')\n",
        "plt.show()"
      ],
      "execution_count": null,
      "outputs": [
        {
          "output_type": "display_data",
          "data": {
            "image/png": "[encoded data removed]",
            "text/plain": [
              "<Figure size 600x400 with 1 Axes>"
            ]
          },
          "metadata": {
            "tags": [],
            "needs_background": "light"
          }
        }
      ]
    },
    {
      "cell_type": "markdown",
      "metadata": {
        "id": "zQ6vlpafgBLs"
      },
      "source": [
        "Normalized Confusion Matrix"
      ]
    },
    {
      "cell_type": "code",
      "metadata": {
        "colab": {
          "base_uri": "https://localhost:8080/",
          "height": 621
        },
        "id": "GqfavkMFfBqm",
        "outputId": "497280e4-3f16-4d78-e709-556059f0e4c5"
      },
      "source": [
        "cm = confusion_matrix(y_test, predicted_logisticRegr)\n",
        "\n",
        "# Normalise\n",
        "cmn = cm.astype('float') / cm.sum(axis=1)[:, np.newaxis]\n",
        "fig, ax = plt.subplots(figsize=(10,10))\n",
        "sns.heatmap(cmn, annot=True, fmt='.2f')\n",
        "plt.title('Normalized Confusion Matrix for Logistic Regression')\n",
        "plt.xlabel('predicted label')\n",
        "plt.ylabel('true label')\n",
        "plt.show(block=False)"
      ],
      "execution_count": null,
      "outputs": [
        {
          "output_type": "display_data",
          "data": {
            "image/png": "[encoded data removed]",
            "text/plain": [
              "<Figure size 720x720 with 2 Axes>"
            ]
          },
          "metadata": {
            "tags": [],
            "needs_background": "light"
          }
        }
      ]
    },
    {
      "cell_type": "markdown",
      "metadata": {
        "id": "O8MRvpqvpCDI"
      },
      "source": [
        "Accuracy"
      ]
    },
    {
      "cell_type": "code",
      "metadata": {
        "id": "TRIW3timpDXm",
        "colab": {
          "base_uri": "https://localhost:8080/"
        },
        "outputId": "8c7acf62-1fe3-49e1-bbb5-b2b34c03e25e"
      },
      "source": [
        "score_logistic= accuracy_score(predicted_logisticRegr, y_test)\n",
        "print(\"Accuracy with Logistic Regression: \",score_logistic)"
      ],
      "execution_count": null,
      "outputs": [
        {
          "output_type": "stream",
          "text": [
            "Accuracy with Logistic Regression:  0.9501542344363433\n"
          ],
          "name": "stdout"
        }
      ]
    },
    {
      "cell_type": "markdown",
      "metadata": {
        "id": "eQgFbXW2pNay"
      },
      "source": [
        "Precision, Recall, and Accuracy"
      ]
    },
    {
      "cell_type": "code",
      "metadata": {
        "id": "m2ORxsRgpNi7",
        "colab": {
          "base_uri": "https://localhost:8080/"
        },
        "outputId": "2de53cda-2ff4-4bc9-93d7-2dde381de3fa"
      },
      "source": [
        "print(classification_report(y_test, predicted_logisticRegr))"
      ],
      "execution_count": null,
      "outputs": [
        {
          "output_type": "stream",
          "text": [
            "              precision    recall  f1-score   support\n",
            "\n",
            "           0       0.94      0.86      0.90      3594\n",
            "           1       0.95      0.98      0.97     10670\n",
            "\n",
            "    accuracy                           0.95     14264\n",
            "   macro avg       0.95      0.92      0.93     14264\n",
            "weighted avg       0.95      0.95      0.95     14264\n",
            "\n"
          ],
          "name": "stdout"
        }
      ]
    },
    {
      "cell_type": "markdown",
      "metadata": {
        "id": "3jh-wE3enVXN"
      },
      "source": [
        "ROC curve"
      ]
    },
    {
      "cell_type": "code",
      "metadata": {
        "colab": {
          "base_uri": "https://localhost:8080/",
          "height": 404
        },
        "id": "EwjfhOcknTyU",
        "outputId": "96b0740a-0723-431c-e4cc-5903e16a9668"
      },
      "source": [
        "# calculates the fpr and tpr for the classifications\n",
        "fpr, tpr, threshold = roc_curve(y_test, predicted_logisticRegr)\n",
        "roc_auc = auc(fpr, tpr)\n",
        "plt.figure(dpi=100)                       # this plots a high quality graph\n",
        "plt.title('Receiver Operating Characteristic')\n",
        "plt.plot(fpr, tpr, 'b', label = 'AUC = %0.2f' % roc_auc)\n",
        "plt.legend(loc = 'best')\n",
        "plt.plot([0, 1], [0, 1],'r--')\n",
        "plt.ylabel('True Positive Rate', color='g')\n",
        "plt.xlabel('False Positive Rate', color='r')\n",
        "plt.show()"
      ],
      "execution_count": null,
      "outputs": [
        {
          "output_type": "display_data",
          "data": {
            "image/png": "[encoded data removed]",
            "text/plain": [
              "<Figure size 600x400 with 1 Axes>"
            ]
          },
          "metadata": {
            "tags": [],
            "needs_background": "light"
          }
        }
      ]
    }
  ]
}