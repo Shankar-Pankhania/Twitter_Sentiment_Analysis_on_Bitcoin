{
  "nbformat": 4,
  "nbformat_minor": 0,
  "metadata": {
    "colab": {
      "name": "count_sentiments_per_hour.ipynb",
      "provenance": [],
      "authorship_tag": "ABX9TyMA0f80lDQRl9DjvYEPqAUc",
      "include_colab_link": true
    },
    "kernelspec": {
      "name": "python3",
      "display_name": "Python 3"
    }
  },
  "cells": [
    {
      "cell_type": "markdown",
      "metadata": {
        "id": "view-in-github",
        "colab_type": "text"
      },
      "source": [
        "<a href=\"https://colab.research.google.com/github/Shankar-Pankhania/Twitter_Sentiment_Analysis_on_Bitcoin/blob/main/count_sentiments_per_hour.ipynb\" target=\"_parent\"><img src=\"https://colab.research.google.com/assets/colab-badge.svg\" alt=\"Open In Colab\"/></a>"
      ]
    },
    {
      "cell_type": "code",
      "metadata": {
        "id": "hkC-gH2ucYRq"
      },
      "source": [
        "from google.colab import drive \n",
        "drive.mount('/content/drive/')\n",
        "%cd /content/drive/My Drive/Dissertation/"
      ],
      "execution_count": null,
      "outputs": []
    },
    {
      "cell_type": "code",
      "metadata": {
        "id": "I6pz3P2Wcf3Y"
      },
      "source": [
        "import pandas as pd\n",
        "\n",
        "df = pd.read_csv('bitcoin_tweets.csv')\n",
        "df"
      ],
      "execution_count": null,
      "outputs": []
    },
    {
      "cell_type": "code",
      "metadata": {
        "id": "8vTnI3_iEz-6"
      },
      "source": [
        "pip install botometer"
      ],
      "execution_count": null,
      "outputs": []
    },
    {
      "cell_type": "markdown",
      "metadata": {
        "id": "QYgOtMuKsJP_"
      },
      "source": [
        "Detect bots"
      ]
    },
    {
      "cell_type": "code",
      "metadata": {
        "id": "MYHiCcM1sLJM"
      },
      "source": [
        "from botometer import Botometer\n",
        "\n",
        "#samples 1000 tweets from the dataset\n",
        "sample_entire_dataset = df.sample(n=1000)\n",
        "\n",
        "rapid_api_key = '0dd6bfa718mshf0f360df07771b5p13cce4jsnae7a91cae654'\n",
        "\n",
        "#Get your Twitter API credentials and enter them here\n",
        "twitter_tokens = {\n",
        "  'consumer_key' : 'ngUiFH7BGoDjoeRYFp6J4CISz',\n",
        "  'consumer_secret' : 'sLGTulZAxLThdluHb7RyGTF08jpc75NowJkwj8DaNNG8P7zbeA',\n",
        "  'access_key' : '2387367300-CsyGg6vQeV7reiGsOzFoRToHi7Jdskyie4Rf3GO',\n",
        "  'access_secret' : 'J6ivsjOUFilDm7llUgvXe87Cwk8NEGZQyCS9wmgOanINU'\n",
        "}\n",
        "\n",
        "botometer = Botometer(mashape_key=rapid_api_key, **twitter_tokens, wait_on_ratelimit=True)\n",
        "\n",
        "total_bots = []\n",
        "updateUsernames = sample_entire_dataset['Username']\n",
        "\n",
        "for i in updateUsernames:\n",
        "  #validation for the users account\n",
        "  try:\n",
        "    #gets the botometer scores of the username\n",
        "     usernames = botometer.check_account('@'+i)\n",
        "\n",
        "  except:\n",
        "    print(\"Failed to run the command on that user, Skipping...\")\n",
        " \n",
        "  #checks to see if the username is a bot by comparing the overall score against 0.8\n",
        "  if (usernames['raw_scores']['english']['overall'] <= 0.8):\n",
        "    total_bots.append(i)\n",
        "\n",
        "total_bots\n",
        "\n",
        "#set sentiment of bot tweet to NULL\n",
        "for user in total_bots:\n",
        "  df[user] == "
      ],
      "execution_count": null,
      "outputs": []
    },
    {
      "cell_type": "markdown",
      "metadata": {
        "id": "oUICJ3tmku4p"
      },
      "source": [
        "Count the sentiments for each hour"
      ]
    },
    {
      "cell_type": "code",
      "metadata": {
        "id": "XAH7-cd0ckDt"
      },
      "source": [
        "df['Timestamp'] = pd.to_datetime(df['Timestamp'])\n",
        "\n",
        "count_sentiments_per_hour = df.groupby([pd.Grouper(key='Timestamp',freq='H'), df['sentiment']]).size().reset_index(name='count')\n",
        "\n",
        "#this will convert rows as column headers and will be the new dataframe\n",
        "df2 = count_sentiments_per_hour.pivot_table('count', ['Timestamp'], 'sentiment')\n",
        "df2.rename(columns={-1 : 'count_negative', 0 : 'count_neutral', 1 : 'count_positive'}, inplace=True)"
      ],
      "execution_count": null,
      "outputs": []
    },
    {
      "cell_type": "markdown",
      "metadata": {
        "id": "Aazo4sIPJv69"
      },
      "source": [
        "Count average compound each hour"
      ]
    },
    {
      "cell_type": "code",
      "metadata": {
        "id": "h1Ts4AHiJ1CJ"
      },
      "source": [
        "count_compound_per_hour = df.groupby(pd.Grouper(key='Timestamp',freq='H'))['compound'].mean()\n",
        "df2['compound_total'] = count_compound_per_hour.apply(lambda x: x)"
      ],
      "execution_count": null,
      "outputs": []
    },
    {
      "cell_type": "markdown",
      "metadata": {
        "id": "klY61-UOVUb2"
      },
      "source": [
        "Count average negative sentiment"
      ]
    },
    {
      "cell_type": "code",
      "metadata": {
        "id": "FuimCsrtVYLH"
      },
      "source": [
        "filter_negative = df[df['sentiment'] == -1]\n",
        "calculate_mean_negative_hourly = filter_negative.groupby(pd.Grouper(key='Timestamp',freq='H'))['compound'].mean()\n",
        "df2['sent_negative'] = calculate_mean_negative_hourly.apply(lambda x: x)\n"
      ],
      "execution_count": null,
      "outputs": []
    },
    {
      "cell_type": "markdown",
      "metadata": {
        "id": "4HI13D7sqgzI"
      },
      "source": [
        "Count average positive sentiment"
      ]
    },
    {
      "cell_type": "code",
      "metadata": {
        "colab": {
          "base_uri": "https://localhost:8080/",
          "height": 437
        },
        "id": "VK4Wh-tjqkQm",
        "outputId": "6ad77580-c42c-416f-c9c5-37db0a0cc686"
      },
      "source": [
        "filter_positive = df[df['sentiment'] == 1]\n",
        "calculate_mean_positive_hourly = filter_positive.groupby(pd.Grouper(key='Timestamp',freq='H'))['compound'].mean()\n",
        "df2['sent_positive'] = calculate_mean_positive_hourly.apply(lambda x: x)\n",
        "df2"
      ],
      "execution_count": null,
      "outputs": [
        {
          "output_type": "execute_result",
          "data": {
            "text/html": [
              "<div>\n",
              "<style scoped>\n",
              "    .dataframe tbody tr th:only-of-type {\n",
              "        vertical-align: middle;\n",
              "    }\n",
              "\n",
              "    .dataframe tbody tr th {\n",
              "        vertical-align: top;\n",
              "    }\n",
              "\n",
              "    .dataframe thead th {\n",
              "        text-align: right;\n",
              "    }\n",
              "</style>\n",
              "<table border=\"1\" class=\"dataframe\">\n",
              "  <thead>\n",
              "    <tr style=\"text-align: right;\">\n",
              "      <th>sentiment</th>\n",
              "      <th>count_negative</th>\n",
              "      <th>count_neutral</th>\n",
              "      <th>count_positive</th>\n",
              "      <th>compound_total</th>\n",
              "      <th>sent_negative</th>\n",
              "      <th>sent_positive</th>\n",
              "      <th>total_volume_of_tweets</th>\n",
              "    </tr>\n",
              "    <tr>\n",
              "      <th>Timestamp</th>\n",
              "      <th></th>\n",
              "      <th></th>\n",
              "      <th></th>\n",
              "      <th></th>\n",
              "      <th></th>\n",
              "      <th></th>\n",
              "      <th></th>\n",
              "    </tr>\n",
              "  </thead>\n",
              "  <tbody>\n",
              "    <tr>\n",
              "      <th>2021-03-20 23:00:00</th>\n",
              "      <td>165</td>\n",
              "      <td>343</td>\n",
              "      <td>489</td>\n",
              "      <td>0.183093</td>\n",
              "      <td>-0.419258</td>\n",
              "      <td>0.514767</td>\n",
              "      <td>997</td>\n",
              "    </tr>\n",
              "    <tr>\n",
              "      <th>2021-03-21 00:00:00</th>\n",
              "      <td>140</td>\n",
              "      <td>363</td>\n",
              "      <td>498</td>\n",
              "      <td>0.196218</td>\n",
              "      <td>-0.402805</td>\n",
              "      <td>0.507644</td>\n",
              "      <td>1001</td>\n",
              "    </tr>\n",
              "    <tr>\n",
              "      <th>2021-03-21 01:00:00</th>\n",
              "      <td>172</td>\n",
              "      <td>398</td>\n",
              "      <td>427</td>\n",
              "      <td>0.130551</td>\n",
              "      <td>-0.455980</td>\n",
              "      <td>0.488496</td>\n",
              "      <td>997</td>\n",
              "    </tr>\n",
              "    <tr>\n",
              "      <th>2021-03-21 02:00:00</th>\n",
              "      <td>173</td>\n",
              "      <td>362</td>\n",
              "      <td>468</td>\n",
              "      <td>0.152785</td>\n",
              "      <td>-0.402528</td>\n",
              "      <td>0.476240</td>\n",
              "      <td>1003</td>\n",
              "    </tr>\n",
              "    <tr>\n",
              "      <th>2021-03-21 03:00:00</th>\n",
              "      <td>167</td>\n",
              "      <td>299</td>\n",
              "      <td>535</td>\n",
              "      <td>0.207234</td>\n",
              "      <td>-0.425759</td>\n",
              "      <td>0.520640</td>\n",
              "      <td>1001</td>\n",
              "    </tr>\n",
              "    <tr>\n",
              "      <th>...</th>\n",
              "      <td>...</td>\n",
              "      <td>...</td>\n",
              "      <td>...</td>\n",
              "      <td>...</td>\n",
              "      <td>...</td>\n",
              "      <td>...</td>\n",
              "      <td>...</td>\n",
              "    </tr>\n",
              "    <tr>\n",
              "      <th>2021-03-25 20:00:00</th>\n",
              "      <td>151</td>\n",
              "      <td>418</td>\n",
              "      <td>434</td>\n",
              "      <td>0.163823</td>\n",
              "      <td>-0.395608</td>\n",
              "      <td>0.516247</td>\n",
              "      <td>1003</td>\n",
              "    </tr>\n",
              "    <tr>\n",
              "      <th>2021-03-25 21:00:00</th>\n",
              "      <td>179</td>\n",
              "      <td>364</td>\n",
              "      <td>451</td>\n",
              "      <td>0.147562</td>\n",
              "      <td>-0.455142</td>\n",
              "      <td>0.505868</td>\n",
              "      <td>994</td>\n",
              "    </tr>\n",
              "    <tr>\n",
              "      <th>2021-03-25 22:00:00</th>\n",
              "      <td>138</td>\n",
              "      <td>418</td>\n",
              "      <td>444</td>\n",
              "      <td>0.187263</td>\n",
              "      <td>-0.400593</td>\n",
              "      <td>0.546272</td>\n",
              "      <td>1000</td>\n",
              "    </tr>\n",
              "    <tr>\n",
              "      <th>2021-03-25 23:00:00</th>\n",
              "      <td>150</td>\n",
              "      <td>437</td>\n",
              "      <td>415</td>\n",
              "      <td>0.155403</td>\n",
              "      <td>-0.399498</td>\n",
              "      <td>0.519612</td>\n",
              "      <td>1002</td>\n",
              "    </tr>\n",
              "    <tr>\n",
              "      <th>2021-03-26 00:00:00</th>\n",
              "      <td>2</td>\n",
              "      <td>7</td>\n",
              "      <td>3</td>\n",
              "      <td>0.053908</td>\n",
              "      <td>-0.422550</td>\n",
              "      <td>0.497333</td>\n",
              "      <td>12</td>\n",
              "    </tr>\n",
              "  </tbody>\n",
              "</table>\n",
              "<p>122 rows × 7 columns</p>\n",
              "</div>"
            ],
            "text/plain": [
              "sentiment            count_negative  ...  total_volume_of_tweets\n",
              "Timestamp                            ...                        \n",
              "2021-03-20 23:00:00             165  ...                     997\n",
              "2021-03-21 00:00:00             140  ...                    1001\n",
              "2021-03-21 01:00:00             172  ...                     997\n",
              "2021-03-21 02:00:00             173  ...                    1003\n",
              "2021-03-21 03:00:00             167  ...                    1001\n",
              "...                             ...  ...                     ...\n",
              "2021-03-25 20:00:00             151  ...                    1003\n",
              "2021-03-25 21:00:00             179  ...                     994\n",
              "2021-03-25 22:00:00             138  ...                    1000\n",
              "2021-03-25 23:00:00             150  ...                    1002\n",
              "2021-03-26 00:00:00               2  ...                      12\n",
              "\n",
              "[122 rows x 7 columns]"
            ]
          },
          "metadata": {
            "tags": []
          },
          "execution_count": 38
        }
      ]
    },
    {
      "cell_type": "markdown",
      "metadata": {
        "id": "x8-QqpMBtqs1"
      },
      "source": [
        "Total volume of tweets for each hour"
      ]
    },
    {
      "cell_type": "code",
      "metadata": {
        "id": "JN9RmXYrtu_S"
      },
      "source": [
        "total_volume_of_tweets = df.groupby(pd.Grouper(key='Timestamp',freq='H'))['sentiment'].count()\n",
        "df2['total_volume_of_tweets'] = total_volume_of_tweets.apply(lambda x: x)\n"
      ],
      "execution_count": null,
      "outputs": []
    },
    {
      "cell_type": "markdown",
      "metadata": {
        "id": "YSa_l1OzpGLD"
      },
      "source": [
        "Download the dataframe"
      ]
    },
    {
      "cell_type": "code",
      "metadata": {
        "colab": {
          "base_uri": "https://localhost:8080/",
          "height": 17
        },
        "id": "eKgGn2sGiwgx",
        "outputId": "448c86f5-fd3c-427a-ebe3-d871aa2dc6f7"
      },
      "source": [
        "from google.colab import files\n",
        "df2.to_csv('Data_to_hourly_intervals.csv')\n",
        "files.download('Data_to_hourly_intervals.csv')"
      ],
      "execution_count": null,
      "outputs": [
        {
          "output_type": "display_data",
          "data": {
            "application/javascript": [
              "\n",
              "    async function download(id, filename, size) {\n",
              "      if (!google.colab.kernel.accessAllowed) {\n",
              "        return;\n",
              "      }\n",
              "      const div = document.createElement('div');\n",
              "      const label = document.createElement('label');\n",
              "      label.textContent = `Downloading \"${filename}\": `;\n",
              "      div.appendChild(label);\n",
              "      const progress = document.createElement('progress');\n",
              "      progress.max = size;\n",
              "      div.appendChild(progress);\n",
              "      document.body.appendChild(div);\n",
              "\n",
              "      const buffers = [];\n",
              "      let downloaded = 0;\n",
              "\n",
              "      const channel = await google.colab.kernel.comms.open(id);\n",
              "      // Send a message to notify the kernel that we're ready.\n",
              "      channel.send({})\n",
              "\n",
              "      for await (const message of channel.messages) {\n",
              "        // Send a message to notify the kernel that we're ready.\n",
              "        channel.send({})\n",
              "        if (message.buffers) {\n",
              "          for (const buffer of message.buffers) {\n",
              "            buffers.push(buffer);\n",
              "            downloaded += buffer.byteLength;\n",
              "            progress.value = downloaded;\n",
              "          }\n",
              "        }\n",
              "      }\n",
              "      const blob = new Blob(buffers, {type: 'application/binary'});\n",
              "      const a = document.createElement('a');\n",
              "      a.href = window.URL.createObjectURL(blob);\n",
              "      a.download = filename;\n",
              "      div.appendChild(a);\n",
              "      a.click();\n",
              "      div.remove();\n",
              "    }\n",
              "  "
            ],
            "text/plain": [
              "<IPython.core.display.Javascript object>"
            ]
          },
          "metadata": {
            "tags": []
          }
        },
        {
          "output_type": "display_data",
          "data": {
            "application/javascript": [
              "download(\"download_e675904b-1158-468e-8b81-f4e18d398bad\", \"Data_to_hourly_intervals.csv\", 11736)"
            ],
            "text/plain": [
              "<IPython.core.display.Javascript object>"
            ]
          },
          "metadata": {
            "tags": []
          }
        }
      ]
    }
  ]
}