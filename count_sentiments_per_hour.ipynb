{
  "nbformat": 4,
  "nbformat_minor": 0,
  "metadata": {
    "colab": {
      "name": "count_sentiments_per_hour.ipynb",
      "provenance": [],
      "authorship_tag": "ABX9TyNv3j/M2eNj+rhsMyLO9dZo",
      "include_colab_link": true
    },
    "kernelspec": {
      "name": "python3",
      "display_name": "Python 3"
    }
  },
  "cells": [
    {
      "cell_type": "markdown",
      "metadata": {
        "id": "view-in-github",
        "colab_type": "text"
      },
      "source": [
        "<a href=\"https://colab.research.google.com/github/Shankar-Pankhania/Twitter_Sentiment_Analysis_on_Bitcoin/blob/main/count_sentiments_per_hour.ipynb\" target=\"_parent\"><img src=\"https://colab.research.google.com/assets/colab-badge.svg\" alt=\"Open In Colab\"/></a>"
      ]
    },
    {
      "cell_type": "markdown",
      "metadata": {
        "id": "9Hye3IVw92R4"
      },
      "source": [
        "Connect to Google Drive"
      ]
    },
    {
      "cell_type": "code",
      "metadata": {
        "id": "hkC-gH2ucYRq",
        "colab": {
          "base_uri": "https://localhost:8080/"
        },
        "outputId": "2f57a410-12f4-49cf-96be-72168af27b00"
      },
      "source": [
        "from google.colab import drive \n",
        "drive.mount('/content/drive/')\n",
        "%cd /content/drive/My Drive/Dissertation/"
      ],
      "execution_count": 1,
      "outputs": [
        {
          "output_type": "stream",
          "text": [
            "Mounted at /content/drive/\n",
            "/content/drive/My Drive/Dissertation\n"
          ],
          "name": "stdout"
        }
      ]
    },
    {
      "cell_type": "markdown",
      "metadata": {
        "id": "mPa2uPcw972I"
      },
      "source": [
        "Import Package"
      ]
    },
    {
      "cell_type": "code",
      "metadata": {
        "id": "NOBrEiIogM8Z"
      },
      "source": [
        "import numpy as np\n",
        "import pandas as pd\n",
        "from google.colab import files"
      ],
      "execution_count": 2,
      "outputs": []
    },
    {
      "cell_type": "markdown",
      "metadata": {
        "id": "n5c7a5119-Do"
      },
      "source": [
        "Read Dataset"
      ]
    },
    {
      "cell_type": "code",
      "metadata": {
        "id": "I6pz3P2Wcf3Y"
      },
      "source": [
        "df = pd.read_csv('bitcoin_tweets.csv')"
      ],
      "execution_count": 3,
      "outputs": []
    },
    {
      "cell_type": "markdown",
      "metadata": {
        "id": "38xKSLhosLmn"
      },
      "source": [
        "Download Botometer"
      ]
    },
    {
      "cell_type": "code",
      "metadata": {
        "id": "8vTnI3_iEz-6"
      },
      "source": [
        "pip install botometer"
      ],
      "execution_count": null,
      "outputs": []
    },
    {
      "cell_type": "markdown",
      "metadata": {
        "id": "QYgOtMuKsJP_"
      },
      "source": [
        "Detect bots"
      ]
    },
    {
      "cell_type": "code",
      "metadata": {
        "id": "MYHiCcM1sLJM"
      },
      "source": [
        "from botometer import Botometer\n",
        "\n",
        "#samples 1000 tweets from the dataset\n",
        "sample_entire_dataset = df.sample(n=1000)\n",
        "\n",
        "rapid_api_key = '0dd6bfa718mshf0f360df07771b5p13cce4jsnae7a91cae654'\n",
        "\n",
        "#Get your Twitter API credentials and enter them here\n",
        "twitter_tokens = {\n",
        "  'consumer_key' : 'ngUiFH7BGoDjoeRYFp6J4CISz',\n",
        "  'consumer_secret' : 'sLGTulZAxLThdluHb7RyGTF08jpc75NowJkwj8DaNNG8P7zbeA',\n",
        "  'access_key' : '2387367300-CsyGg6vQeV7reiGsOzFoRToHi7Jdskyie4Rf3GO',\n",
        "  'access_secret' : 'J6ivsjOUFilDm7llUgvXe87Cwk8NEGZQyCS9wmgOanINU'\n",
        "}\n",
        "\n",
        "botometer = Botometer(mashape_key=rapid_api_key, **twitter_tokens, wait_on_ratelimit=True)\n",
        "\n",
        "total_bots = []\n",
        "updateUsernames = sample_entire_dataset['Username']\n",
        "\n",
        "for i in updateUsernames:\n",
        "  #validation for the users account\n",
        "  try:\n",
        "    #gets the botometer scores of the username\n",
        "     usernames = botometer.check_account('@'+i)\n",
        "\n",
        "  except:\n",
        "    pass\n",
        " \n",
        "  #checks to see if the username is a bot by comparing the overall score against 0.8\n",
        "  if (usernames['raw_scores']['english']['overall'] >= 0.8):\n",
        "    total_bots.append(i)\n",
        "\n",
        "#set sentiment of bot tweet to NULL\n",
        "for user in total_bots:\n",
        "  df.loc[df['Username'] == user, ['sentiment']] = np.nan"
      ],
      "execution_count": 5,
      "outputs": []
    },
    {
      "cell_type": "markdown",
      "metadata": {
        "id": "LeAKLVoXGq-D"
      },
      "source": [
        "Display list of all bots detected"
      ]
    },
    {
      "cell_type": "code",
      "metadata": {
        "colab": {
          "base_uri": "https://localhost:8080/"
        },
        "id": "oAunueyJE0vZ",
        "outputId": "74f17b24-6be9-4372-9c1d-1484e6167c4d"
      },
      "source": [
        "total_bots"
      ],
      "execution_count": 10,
      "outputs": [
        {
          "output_type": "execute_result",
          "data": {
            "text/plain": [
              "['binance_buddy',\n",
              " 'TireHours',\n",
              " 'Ronald_rol0',\n",
              " 'BULLMAR21706445',\n",
              " 'AcerboLivio',\n",
              " 'bitcoinagile',\n",
              " 'jenny_jen27',\n",
              " 'undrfyr',\n",
              " 'candidate7153',\n",
              " 'RoyotPi',\n",
              " 'BitcoinLifeClub',\n",
              " 'Sneaksite',\n",
              " 'HodlingBitcoin',\n",
              " 'media_diamante',\n",
              " 'CorieBouldin',\n",
              " 'cryptow1re',\n",
              " 'aqxvwy',\n",
              " 'BittrexPrices',\n",
              " 'coinpricenow',\n",
              " 'shani_gujjr',\n",
              " 'help_me_plzplz_',\n",
              " 'crypto_AI_',\n",
              " 'via_klare_123',\n",
              " 'Serhot14',\n",
              " 'BitcoinBolt',\n",
              " 'bitoco_in',\n",
              " 'Dl23Icy',\n",
              " 'Pleznaofficial',\n",
              " 'Raymond12590224',\n",
              " 'LarryG73372822',\n",
              " 'yilmazonur23',\n",
              " 'NewsAlltime1',\n",
              " 'chaintip',\n",
              " 'thembi_mbatha1',\n",
              " 'EtherFlair',\n",
              " 'kellysiqili',\n",
              " 'MotoringChat',\n",
              " 'zeeshan17793755',\n",
              " 'BTCstJournal',\n",
              " 'JnHossein',\n",
              " 'BTCstJournal',\n",
              " 'CryptoNewsKing',\n",
              " 'TomasEnrique92',\n",
              " 'James45771815',\n",
              " 'bitoco_in',\n",
              " 'MichaelCMcKee',\n",
              " 'Letho37',\n",
              " 'Forexfr',\n",
              " 'ladycrypt4',\n",
              " 'bitcoinagile',\n",
              " 'HackPosts',\n",
              " 'CryptoCurrNews',\n",
              " 'btc_blockbot',\n",
              " 'is_acdc',\n",
              " 'BURNERA56462776',\n",
              " 'LatestcryptoN',\n",
              " 'deesbarbara',\n",
              " 'falxdsts',\n",
              " 'Veronicaarthur0',\n",
              " 'webnowcompany',\n",
              " 'Chaudhrybobby1',\n",
              " 'hfa_jet',\n",
              " 'UrbanPopFan',\n",
              " 'sarang143u',\n",
              " 'chaintip',\n",
              " 'Stellakatiy',\n",
              " 'BitcoinFNews',\n",
              " 'susiemills__',\n",
              " 'thandolukelu363',\n",
              " 'bitcoinagile',\n",
              " 'Bitcoin8News',\n",
              " 'btc_blockbot',\n",
              " 'epazz',\n",
              " 'ValueBtc',\n",
              " 'Rachelwoilf',\n",
              " 'bakednet',\n",
              " 'BlockWatcher',\n",
              " 'HumanPepe1',\n",
              " 'joehart95916342',\n",
              " 'storewithcoupon',\n",
              " 'BitcoinBolt',\n",
              " 'Prometeus90',\n",
              " 'Smart_wyckhuys',\n",
              " 'ReportsBitcoin',\n",
              " 'DisruptivetechI',\n",
              " 'Uberbills',\n",
              " 'pavelnagornyak',\n",
              " 'CyberSnakeNft']"
            ]
          },
          "metadata": {
            "tags": []
          },
          "execution_count": 10
        }
      ]
    },
    {
      "cell_type": "markdown",
      "metadata": {
        "id": "oUICJ3tmku4p"
      },
      "source": [
        "Count the sentiments for each hour"
      ]
    },
    {
      "cell_type": "code",
      "metadata": {
        "id": "XAH7-cd0ckDt"
      },
      "source": [
        "df['Timestamp'] = pd.to_datetime(df['Timestamp'])\n",
        "\n",
        "count_sentiments_per_hour = df.groupby([pd.Grouper(key='Timestamp',freq='H'), df['sentiment']]).size().reset_index(name='count')\n",
        "\n",
        "#this will convert rows as column headers and will be the new dataframe\n",
        "df2 = count_sentiments_per_hour.pivot_table('count', ['Timestamp'], 'sentiment')\n",
        "df2.rename(columns={-1 : 'count_negative', 0 : 'count_neutral', 1 : 'count_positive'}, inplace=True)"
      ],
      "execution_count": 11,
      "outputs": []
    },
    {
      "cell_type": "markdown",
      "metadata": {
        "id": "Aazo4sIPJv69"
      },
      "source": [
        "Count average compound each hour"
      ]
    },
    {
      "cell_type": "code",
      "metadata": {
        "id": "h1Ts4AHiJ1CJ"
      },
      "source": [
        "count_compound_per_hour = df.groupby(pd.Grouper(key='Timestamp',freq='H'))['compound'].mean()\n",
        "df2['compound_total'] = count_compound_per_hour.apply(lambda x: x)"
      ],
      "execution_count": 12,
      "outputs": []
    },
    {
      "cell_type": "markdown",
      "metadata": {
        "id": "klY61-UOVUb2"
      },
      "source": [
        "Count average negative sentiment"
      ]
    },
    {
      "cell_type": "code",
      "metadata": {
        "id": "FuimCsrtVYLH"
      },
      "source": [
        "filter_negative = df[df['sentiment'] == -1]\n",
        "calculate_mean_negative_hourly = filter_negative.groupby(pd.Grouper(key='Timestamp',freq='H'))['compound'].mean()\n",
        "df2['sent_negative'] = calculate_mean_negative_hourly.apply(lambda x: x)\n"
      ],
      "execution_count": 13,
      "outputs": []
    },
    {
      "cell_type": "markdown",
      "metadata": {
        "id": "4HI13D7sqgzI"
      },
      "source": [
        "Count average positive sentiment"
      ]
    },
    {
      "cell_type": "code",
      "metadata": {
        "id": "VK4Wh-tjqkQm"
      },
      "source": [
        "filter_positive = df[df['sentiment'] == 1]\n",
        "calculate_mean_positive_hourly = filter_positive.groupby(pd.Grouper(key='Timestamp',freq='H'))['compound'].mean()\n",
        "df2['sent_positive'] = calculate_mean_positive_hourly.apply(lambda x: x)"
      ],
      "execution_count": 14,
      "outputs": []
    },
    {
      "cell_type": "markdown",
      "metadata": {
        "id": "x8-QqpMBtqs1"
      },
      "source": [
        "Total volume of tweets for each hour"
      ]
    },
    {
      "cell_type": "code",
      "metadata": {
        "id": "JN9RmXYrtu_S",
        "colab": {
          "base_uri": "https://localhost:8080/",
          "height": 450
        },
        "outputId": "27b5d8d3-2c9e-49dd-de81-c22f5733add1"
      },
      "source": [
        "#total volume of tweets include bot tweets\n",
        "total_volume_of_tweets = df.groupby(pd.Grouper(key='Timestamp',freq='H'))['Text'].count()\n",
        "df2['total_volume_of_tweets'] = total_volume_of_tweets.apply(lambda x: x)\n",
        "df2"
      ],
      "execution_count": 15,
      "outputs": [
        {
          "output_type": "execute_result",
          "data": {
            "text/html": [
              "<div>\n",
              "<style scoped>\n",
              "    .dataframe tbody tr th:only-of-type {\n",
              "        vertical-align: middle;\n",
              "    }\n",
              "\n",
              "    .dataframe tbody tr th {\n",
              "        vertical-align: top;\n",
              "    }\n",
              "\n",
              "    .dataframe thead th {\n",
              "        text-align: right;\n",
              "    }\n",
              "</style>\n",
              "<table border=\"1\" class=\"dataframe\">\n",
              "  <thead>\n",
              "    <tr style=\"text-align: right;\">\n",
              "      <th>sentiment</th>\n",
              "      <th>count_negative</th>\n",
              "      <th>count_neutral</th>\n",
              "      <th>count_positive</th>\n",
              "      <th>compound_total</th>\n",
              "      <th>sent_negative</th>\n",
              "      <th>sent_positive</th>\n",
              "      <th>total_volume_of_tweets</th>\n",
              "    </tr>\n",
              "    <tr>\n",
              "      <th>Timestamp</th>\n",
              "      <th></th>\n",
              "      <th></th>\n",
              "      <th></th>\n",
              "      <th></th>\n",
              "      <th></th>\n",
              "      <th></th>\n",
              "      <th></th>\n",
              "    </tr>\n",
              "  </thead>\n",
              "  <tbody>\n",
              "    <tr>\n",
              "      <th>2021-03-20 23:00:00</th>\n",
              "      <td>154</td>\n",
              "      <td>322</td>\n",
              "      <td>441</td>\n",
              "      <td>0.183093</td>\n",
              "      <td>-0.408458</td>\n",
              "      <td>0.484968</td>\n",
              "      <td>997</td>\n",
              "    </tr>\n",
              "    <tr>\n",
              "      <th>2021-03-21 00:00:00</th>\n",
              "      <td>133</td>\n",
              "      <td>342</td>\n",
              "      <td>483</td>\n",
              "      <td>0.196218</td>\n",
              "      <td>-0.392044</td>\n",
              "      <td>0.508789</td>\n",
              "      <td>1001</td>\n",
              "    </tr>\n",
              "    <tr>\n",
              "      <th>2021-03-21 01:00:00</th>\n",
              "      <td>162</td>\n",
              "      <td>377</td>\n",
              "      <td>400</td>\n",
              "      <td>0.130551</td>\n",
              "      <td>-0.442727</td>\n",
              "      <td>0.484292</td>\n",
              "      <td>997</td>\n",
              "    </tr>\n",
              "    <tr>\n",
              "      <th>2021-03-21 02:00:00</th>\n",
              "      <td>167</td>\n",
              "      <td>346</td>\n",
              "      <td>461</td>\n",
              "      <td>0.152785</td>\n",
              "      <td>-0.393613</td>\n",
              "      <td>0.473624</td>\n",
              "      <td>1003</td>\n",
              "    </tr>\n",
              "    <tr>\n",
              "      <th>2021-03-21 03:00:00</th>\n",
              "      <td>157</td>\n",
              "      <td>290</td>\n",
              "      <td>526</td>\n",
              "      <td>0.207234</td>\n",
              "      <td>-0.418376</td>\n",
              "      <td>0.521672</td>\n",
              "      <td>1001</td>\n",
              "    </tr>\n",
              "    <tr>\n",
              "      <th>...</th>\n",
              "      <td>...</td>\n",
              "      <td>...</td>\n",
              "      <td>...</td>\n",
              "      <td>...</td>\n",
              "      <td>...</td>\n",
              "      <td>...</td>\n",
              "      <td>...</td>\n",
              "    </tr>\n",
              "    <tr>\n",
              "      <th>2021-03-25 20:00:00</th>\n",
              "      <td>147</td>\n",
              "      <td>394</td>\n",
              "      <td>427</td>\n",
              "      <td>0.163823</td>\n",
              "      <td>-0.397025</td>\n",
              "      <td>0.516566</td>\n",
              "      <td>1003</td>\n",
              "    </tr>\n",
              "    <tr>\n",
              "      <th>2021-03-25 21:00:00</th>\n",
              "      <td>174</td>\n",
              "      <td>344</td>\n",
              "      <td>445</td>\n",
              "      <td>0.147562</td>\n",
              "      <td>-0.454155</td>\n",
              "      <td>0.507340</td>\n",
              "      <td>994</td>\n",
              "    </tr>\n",
              "    <tr>\n",
              "      <th>2021-03-25 22:00:00</th>\n",
              "      <td>136</td>\n",
              "      <td>409</td>\n",
              "      <td>437</td>\n",
              "      <td>0.187263</td>\n",
              "      <td>-0.403721</td>\n",
              "      <td>0.545909</td>\n",
              "      <td>1000</td>\n",
              "    </tr>\n",
              "    <tr>\n",
              "      <th>2021-03-25 23:00:00</th>\n",
              "      <td>145</td>\n",
              "      <td>426</td>\n",
              "      <td>410</td>\n",
              "      <td>0.155403</td>\n",
              "      <td>-0.395377</td>\n",
              "      <td>0.521067</td>\n",
              "      <td>1002</td>\n",
              "    </tr>\n",
              "    <tr>\n",
              "      <th>2021-03-26 00:00:00</th>\n",
              "      <td>1</td>\n",
              "      <td>6</td>\n",
              "      <td>3</td>\n",
              "      <td>0.053908</td>\n",
              "      <td>-0.571900</td>\n",
              "      <td>0.497333</td>\n",
              "      <td>12</td>\n",
              "    </tr>\n",
              "  </tbody>\n",
              "</table>\n",
              "<p>122 rows × 7 columns</p>\n",
              "</div>"
            ],
            "text/plain": [
              "sentiment            count_negative  ...  total_volume_of_tweets\n",
              "Timestamp                            ...                        \n",
              "2021-03-20 23:00:00             154  ...                     997\n",
              "2021-03-21 00:00:00             133  ...                    1001\n",
              "2021-03-21 01:00:00             162  ...                     997\n",
              "2021-03-21 02:00:00             167  ...                    1003\n",
              "2021-03-21 03:00:00             157  ...                    1001\n",
              "...                             ...  ...                     ...\n",
              "2021-03-25 20:00:00             147  ...                    1003\n",
              "2021-03-25 21:00:00             174  ...                     994\n",
              "2021-03-25 22:00:00             136  ...                    1000\n",
              "2021-03-25 23:00:00             145  ...                    1002\n",
              "2021-03-26 00:00:00               1  ...                      12\n",
              "\n",
              "[122 rows x 7 columns]"
            ]
          },
          "metadata": {
            "tags": []
          },
          "execution_count": 15
        }
      ]
    },
    {
      "cell_type": "markdown",
      "metadata": {
        "id": "YSa_l1OzpGLD"
      },
      "source": [
        "Download the dataframe"
      ]
    },
    {
      "cell_type": "code",
      "metadata": {
        "colab": {
          "base_uri": "https://localhost:8080/",
          "height": 17
        },
        "id": "eKgGn2sGiwgx",
        "outputId": "b007a07a-29ca-4039-82d5-9c9baff7e547"
      },
      "source": [
        "df2.to_csv('Data_to_hourly_intervals.csv')\n",
        "files.download('Data_to_hourly_intervals.csv')"
      ],
      "execution_count": 16,
      "outputs": [
        {
          "output_type": "display_data",
          "data": {
            "application/javascript": [
              "\n",
              "    async function download(id, filename, size) {\n",
              "      if (!google.colab.kernel.accessAllowed) {\n",
              "        return;\n",
              "      }\n",
              "      const div = document.createElement('div');\n",
              "      const label = document.createElement('label');\n",
              "      label.textContent = `Downloading \"${filename}\": `;\n",
              "      div.appendChild(label);\n",
              "      const progress = document.createElement('progress');\n",
              "      progress.max = size;\n",
              "      div.appendChild(progress);\n",
              "      document.body.appendChild(div);\n",
              "\n",
              "      const buffers = [];\n",
              "      let downloaded = 0;\n",
              "\n",
              "      const channel = await google.colab.kernel.comms.open(id);\n",
              "      // Send a message to notify the kernel that we're ready.\n",
              "      channel.send({})\n",
              "\n",
              "      for await (const message of channel.messages) {\n",
              "        // Send a message to notify the kernel that we're ready.\n",
              "        channel.send({})\n",
              "        if (message.buffers) {\n",
              "          for (const buffer of message.buffers) {\n",
              "            buffers.push(buffer);\n",
              "            downloaded += buffer.byteLength;\n",
              "            progress.value = downloaded;\n",
              "          }\n",
              "        }\n",
              "      }\n",
              "      const blob = new Blob(buffers, {type: 'application/binary'});\n",
              "      const a = document.createElement('a');\n",
              "      a.href = window.URL.createObjectURL(blob);\n",
              "      a.download = filename;\n",
              "      div.appendChild(a);\n",
              "      a.click();\n",
              "      div.remove();\n",
              "    }\n",
              "  "
            ],
            "text/plain": [
              "<IPython.core.display.Javascript object>"
            ]
          },
          "metadata": {
            "tags": []
          }
        },
        {
          "output_type": "display_data",
          "data": {
            "application/javascript": [
              "download(\"download_314f0c71-f487-4725-9bd8-01951507fa24\", \"Data_to_hourly_intervals.csv\", 11749)"
            ],
            "text/plain": [
              "<IPython.core.display.Javascript object>"
            ]
          },
          "metadata": {
            "tags": []
          }
        }
      ]
    }
  ]
}