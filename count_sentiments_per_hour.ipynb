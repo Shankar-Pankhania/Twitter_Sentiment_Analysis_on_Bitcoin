{
  "nbformat": 4,
  "nbformat_minor": 0,
  "metadata": {
    "colab": {
      "name": "count_sentiments_per_hour.ipynb",
      "provenance": [],
      "authorship_tag": "ABX9TyMWI8y4g7pOBlJ3V8prrm2h",
      "include_colab_link": true
    },
    "kernelspec": {
      "name": "python3",
      "display_name": "Python 3"
    }
  },
  "cells": [
    {
      "cell_type": "markdown",
      "metadata": {
        "id": "view-in-github",
        "colab_type": "text"
      },
      "source": [
        "<a href=\"https://colab.research.google.com/github/Shankar-Pankhania/Twitter_Sentiment_Analysis_on_Bitcoin/blob/main/count_sentiments_per_hour.ipynb\" target=\"_parent\"><img src=\"https://colab.research.google.com/assets/colab-badge.svg\" alt=\"Open In Colab\"/></a>"
      ]
    },
    {
      "cell_type": "code",
      "metadata": {
        "id": "hkC-gH2ucYRq"
      },
      "source": [
        "from google.colab import drive \n",
        "drive.mount('/content/drive/')\n",
        "%cd /content/drive/My Drive/Dissertation/"
      ],
      "execution_count": null,
      "outputs": []
    },
    {
      "cell_type": "code",
      "metadata": {
        "id": "NOBrEiIogM8Z"
      },
      "source": [
        "import numpy as np"
      ],
      "execution_count": 6,
      "outputs": []
    },
    {
      "cell_type": "code",
      "metadata": {
        "id": "I6pz3P2Wcf3Y"
      },
      "source": [
        "import pandas as pd\n",
        "\n",
        "df = pd.read_csv('bitcoin_tweets.csv')"
      ],
      "execution_count": null,
      "outputs": []
    },
    {
      "cell_type": "markdown",
      "metadata": {
        "id": "38xKSLhosLmn"
      },
      "source": [
        "Download Botometer"
      ]
    },
    {
      "cell_type": "code",
      "metadata": {
        "id": "8vTnI3_iEz-6"
      },
      "source": [
        "pip install botometer"
      ],
      "execution_count": null,
      "outputs": []
    },
    {
      "cell_type": "markdown",
      "metadata": {
        "id": "QYgOtMuKsJP_"
      },
      "source": [
        "Detect bots"
      ]
    },
    {
      "cell_type": "code",
      "metadata": {
        "id": "MYHiCcM1sLJM"
      },
      "source": [
        "from botometer import Botometer\n",
        "\n",
        "#samples 1000 tweets from the dataset\n",
        "sample_entire_dataset = df.sample(n=1000)\n",
        "\n",
        "rapid_api_key = '0dd6bfa718mshf0f360df07771b5p13cce4jsnae7a91cae654'\n",
        "\n",
        "#Get your Twitter API credentials and enter them here\n",
        "twitter_tokens = {\n",
        "  'consumer_key' : 'ngUiFH7BGoDjoeRYFp6J4CISz',\n",
        "  'consumer_secret' : 'sLGTulZAxLThdluHb7RyGTF08jpc75NowJkwj8DaNNG8P7zbeA',\n",
        "  'access_key' : '2387367300-CsyGg6vQeV7reiGsOzFoRToHi7Jdskyie4Rf3GO',\n",
        "  'access_secret' : 'J6ivsjOUFilDm7llUgvXe87Cwk8NEGZQyCS9wmgOanINU'\n",
        "}\n",
        "\n",
        "botometer = Botometer(mashape_key=rapid_api_key, **twitter_tokens, wait_on_ratelimit=True)\n",
        "\n",
        "total_bots = []\n",
        "updateUsernames = sample_entire_dataset['Username']\n",
        "\n",
        "for i in updateUsernames:\n",
        "  #validation for the users account\n",
        "  try:\n",
        "    #gets the botometer scores of the username\n",
        "     usernames = botometer.check_account('@'+i)\n",
        "\n",
        "  except:\n",
        "    pass\n",
        " \n",
        "  #checks to see if the username is a bot by comparing the overall score against 0.8\n",
        "  if (usernames['raw_scores']['english']['overall'] >= 0.8):\n",
        "    total_bots.append(i)\n",
        "\n",
        "#set sentiment of bot tweet to NULL\n",
        "for user in total_bots:\n",
        "  df.loc[df['Username'] == user, ['sentiment']] = np.nan"
      ],
      "execution_count": null,
      "outputs": []
    },
    {
      "cell_type": "code",
      "metadata": {
        "colab": {
          "base_uri": "https://localhost:8080/",
          "height": 585
        },
        "id": "Llp6MB0_nWvI",
        "outputId": "ded678d9-383b-4bf9-b2d5-259286c2f63f"
      },
      "source": [
        "#The sentiment with Nan represent bots\n",
        "df"
      ],
      "execution_count": 16,
      "outputs": [
        {
          "output_type": "execute_result",
          "data": {
            "text/html": [
              "<div>\n",
              "<style scoped>\n",
              "    .dataframe tbody tr th:only-of-type {\n",
              "        vertical-align: middle;\n",
              "    }\n",
              "\n",
              "    .dataframe tbody tr th {\n",
              "        vertical-align: top;\n",
              "    }\n",
              "\n",
              "    .dataframe thead th {\n",
              "        text-align: right;\n",
              "    }\n",
              "</style>\n",
              "<table border=\"1\" class=\"dataframe\">\n",
              "  <thead>\n",
              "    <tr style=\"text-align: right;\">\n",
              "      <th></th>\n",
              "      <th>Unnamed: 0</th>\n",
              "      <th>Username</th>\n",
              "      <th>User ID</th>\n",
              "      <th>Timestamp</th>\n",
              "      <th>Text</th>\n",
              "      <th>Retweet</th>\n",
              "      <th>Likes</th>\n",
              "      <th>processed_tweet</th>\n",
              "      <th>scores</th>\n",
              "      <th>compound</th>\n",
              "      <th>sentiment</th>\n",
              "    </tr>\n",
              "  </thead>\n",
              "  <tbody>\n",
              "    <tr>\n",
              "      <th>0</th>\n",
              "      <td>0</td>\n",
              "      <td>karldickey</td>\n",
              "      <td>1.370000e+18</td>\n",
              "      <td>21/03/2021 00:00</td>\n",
              "      <td>b\"CoinDesk: Will Bitcoin Be the Currency of th...</td>\n",
              "      <td>0</td>\n",
              "      <td>5395</td>\n",
              "      <td>coindesk bitcoin currency world scaramucci qui...</td>\n",
              "      <td>{'neg': 0.0, 'neu': 1.0, 'pos': 0.0, 'compound...</td>\n",
              "      <td>0.0000</td>\n",
              "      <td>0.0</td>\n",
              "    </tr>\n",
              "    <tr>\n",
              "      <th>1</th>\n",
              "      <td>1</td>\n",
              "      <td>BitcoinLifeClub</td>\n",
              "      <td>1.370000e+18</td>\n",
              "      <td>21/03/2021 00:00</td>\n",
              "      <td>b'Bitcoin Life Club strive to help as many as ...</td>\n",
              "      <td>0</td>\n",
              "      <td>2</td>\n",
              "      <td>bitcoin life club strive help many become owne...</td>\n",
              "      <td>{'neg': 0.0, 'neu': 0.838, 'pos': 0.162, 'comp...</td>\n",
              "      <td>0.4019</td>\n",
              "      <td>1.0</td>\n",
              "    </tr>\n",
              "    <tr>\n",
              "      <th>2</th>\n",
              "      <td>2</td>\n",
              "      <td>valueofcrypto</td>\n",
              "      <td>1.370000e+18</td>\n",
              "      <td>21/03/2021 00:00</td>\n",
              "      <td>b'#Bitcoin\\nCurrent Price:\\n$ 58126.19\\n\\xe2\\x...</td>\n",
              "      <td>0</td>\n",
              "      <td>65</td>\n",
              "      <td>bitcoin ncurrent price xe xac ncryptocurrencie...</td>\n",
              "      <td>{'neg': 0.0, 'neu': 1.0, 'pos': 0.0, 'compound...</td>\n",
              "      <td>0.0000</td>\n",
              "      <td>NaN</td>\n",
              "    </tr>\n",
              "    <tr>\n",
              "      <th>3</th>\n",
              "      <td>3</td>\n",
              "      <td>susiemills__</td>\n",
              "      <td>1.370000e+18</td>\n",
              "      <td>20/03/2021 23:59</td>\n",
              "      <td>b'@MarekZee You can purchase bitcoin at Coinma...</td>\n",
              "      <td>0</td>\n",
              "      <td>42</td>\n",
              "      <td>purchase bitcoin coinmama paybis xe glad show ...</td>\n",
              "      <td>{'neg': 0.0, 'neu': 0.581, 'pos': 0.419, 'comp...</td>\n",
              "      <td>0.8020</td>\n",
              "      <td>1.0</td>\n",
              "    </tr>\n",
              "    <tr>\n",
              "      <th>4</th>\n",
              "      <td>4</td>\n",
              "      <td>CryptoWatchBot</td>\n",
              "      <td>1.370000e+18</td>\n",
              "      <td>20/03/2021 23:59</td>\n",
              "      <td>b'#Investing 74.7% in this optimal #crypto por...</td>\n",
              "      <td>0</td>\n",
              "      <td>98</td>\n",
              "      <td>investing optimal crypto portfolio cash past h...</td>\n",
              "      <td>{'neg': 0.0, 'neu': 0.8, 'pos': 0.2, 'compound...</td>\n",
              "      <td>0.3612</td>\n",
              "      <td>1.0</td>\n",
              "    </tr>\n",
              "    <tr>\n",
              "      <th>...</th>\n",
              "      <td>...</td>\n",
              "      <td>...</td>\n",
              "      <td>...</td>\n",
              "      <td>...</td>\n",
              "      <td>...</td>\n",
              "      <td>...</td>\n",
              "      <td>...</td>\n",
              "      <td>...</td>\n",
              "      <td>...</td>\n",
              "      <td>...</td>\n",
              "      <td>...</td>\n",
              "    </tr>\n",
              "    <tr>\n",
              "      <th>118590</th>\n",
              "      <td>118590</td>\n",
              "      <td>russeree</td>\n",
              "      <td>1.380000e+18</td>\n",
              "      <td>25/03/2021 23:37</td>\n",
              "      <td>b'#Bitcoin is more money than the dollars I us...</td>\n",
              "      <td>0</td>\n",
              "      <td>69</td>\n",
              "      <td>bitcoin money dollars use today</td>\n",
              "      <td>{'neg': 0.0, 'neu': 1.0, 'pos': 0.0, 'compound...</td>\n",
              "      <td>0.0000</td>\n",
              "      <td>0.0</td>\n",
              "    </tr>\n",
              "    <tr>\n",
              "      <th>118591</th>\n",
              "      <td>118591</td>\n",
              "      <td>Sithole_D1</td>\n",
              "      <td>1.380000e+18</td>\n",
              "      <td>25/03/2021 23:37</td>\n",
              "      <td>b'@eNCA I basically thought  @Ericwalker01 was...</td>\n",
              "      <td>0</td>\n",
              "      <td>1325</td>\n",
              "      <td>basically thought scam like rest bitcoin accou...</td>\n",
              "      <td>{'neg': 0.228, 'neu': 0.617, 'pos': 0.154, 'co...</td>\n",
              "      <td>-0.2960</td>\n",
              "      <td>NaN</td>\n",
              "    </tr>\n",
              "    <tr>\n",
              "      <th>118592</th>\n",
              "      <td>118592</td>\n",
              "      <td>SweetBabyGus</td>\n",
              "      <td>1.380000e+18</td>\n",
              "      <td>25/03/2021 23:37</td>\n",
              "      <td>b\"Soooo... How are everyone's bags doing? #Bit...</td>\n",
              "      <td>0</td>\n",
              "      <td>10298</td>\n",
              "      <td>soo everyone bags bitcoin cryptocurrencies</td>\n",
              "      <td>{'neg': 0.0, 'neu': 1.0, 'pos': 0.0, 'compound...</td>\n",
              "      <td>0.0000</td>\n",
              "      <td>0.0</td>\n",
              "    </tr>\n",
              "    <tr>\n",
              "      <th>118593</th>\n",
              "      <td>118593</td>\n",
              "      <td>Zanele371</td>\n",
              "      <td>1.380000e+18</td>\n",
              "      <td>25/03/2021 23:37</td>\n",
              "      <td>b\"@TheAtlantic @KatherineJWu For all those who...</td>\n",
              "      <td>0</td>\n",
              "      <td>3433</td>\n",
              "      <td>new working home bitcoin trading options nhere...</td>\n",
              "      <td>{'neg': 0.0, 'neu': 1.0, 'pos': 0.0, 'compound...</td>\n",
              "      <td>0.0000</td>\n",
              "      <td>NaN</td>\n",
              "    </tr>\n",
              "    <tr>\n",
              "      <th>118594</th>\n",
              "      <td>118594</td>\n",
              "      <td>iansdoodle</td>\n",
              "      <td>1.380000e+18</td>\n",
              "      <td>25/03/2021 23:37</td>\n",
              "      <td>b'@Richardjlimas @POODLUpdates Don\\xe2\\x80\\x99...</td>\n",
              "      <td>0</td>\n",
              "      <td>7525</td>\n",
              "      <td>xe know bitcoin puddle sure dance</td>\n",
              "      <td>{'neg': 0.0, 'neu': 0.685, 'pos': 0.315, 'comp...</td>\n",
              "      <td>0.3182</td>\n",
              "      <td>1.0</td>\n",
              "    </tr>\n",
              "  </tbody>\n",
              "</table>\n",
              "<p>118595 rows × 11 columns</p>\n",
              "</div>"
            ],
            "text/plain": [
              "        Unnamed: 0         Username  ...  compound sentiment\n",
              "0                0       karldickey  ...    0.0000       0.0\n",
              "1                1  BitcoinLifeClub  ...    0.4019       1.0\n",
              "2                2    valueofcrypto  ...    0.0000       NaN\n",
              "3                3     susiemills__  ...    0.8020       1.0\n",
              "4                4   CryptoWatchBot  ...    0.3612       1.0\n",
              "...            ...              ...  ...       ...       ...\n",
              "118590      118590         russeree  ...    0.0000       0.0\n",
              "118591      118591       Sithole_D1  ...   -0.2960       NaN\n",
              "118592      118592     SweetBabyGus  ...    0.0000       0.0\n",
              "118593      118593        Zanele371  ...    0.0000       NaN\n",
              "118594      118594       iansdoodle  ...    0.3182       1.0\n",
              "\n",
              "[118595 rows x 11 columns]"
            ]
          },
          "metadata": {
            "tags": []
          },
          "execution_count": 16
        }
      ]
    },
    {
      "cell_type": "markdown",
      "metadata": {
        "id": "oUICJ3tmku4p"
      },
      "source": [
        "Count the sentiments for each hour"
      ]
    },
    {
      "cell_type": "code",
      "metadata": {
        "id": "XAH7-cd0ckDt"
      },
      "source": [
        "df['Timestamp'] = pd.to_datetime(df['Timestamp'])\n",
        "\n",
        "count_sentiments_per_hour = df.groupby([pd.Grouper(key='Timestamp',freq='H'), df['sentiment']]).size().reset_index(name='count')\n",
        "\n",
        "#this will convert rows as column headers and will be the new dataframe\n",
        "df2 = count_sentiments_per_hour.pivot_table('count', ['Timestamp'], 'sentiment')\n",
        "df2.rename(columns={-1 : 'count_negative', 0 : 'count_neutral', 1 : 'count_positive'}, inplace=True)"
      ],
      "execution_count": 17,
      "outputs": []
    },
    {
      "cell_type": "markdown",
      "metadata": {
        "id": "Aazo4sIPJv69"
      },
      "source": [
        "Count average compound each hour"
      ]
    },
    {
      "cell_type": "code",
      "metadata": {
        "id": "h1Ts4AHiJ1CJ"
      },
      "source": [
        "count_compound_per_hour = df.groupby(pd.Grouper(key='Timestamp',freq='H'))['compound'].mean()\n",
        "df2['compound_total'] = count_compound_per_hour.apply(lambda x: x)"
      ],
      "execution_count": 18,
      "outputs": []
    },
    {
      "cell_type": "markdown",
      "metadata": {
        "id": "klY61-UOVUb2"
      },
      "source": [
        "Count average negative sentiment"
      ]
    },
    {
      "cell_type": "code",
      "metadata": {
        "id": "FuimCsrtVYLH"
      },
      "source": [
        "filter_negative = df[df['sentiment'] == -1]\n",
        "calculate_mean_negative_hourly = filter_negative.groupby(pd.Grouper(key='Timestamp',freq='H'))['compound'].mean()\n",
        "df2['sent_negative'] = calculate_mean_negative_hourly.apply(lambda x: x)\n"
      ],
      "execution_count": 19,
      "outputs": []
    },
    {
      "cell_type": "markdown",
      "metadata": {
        "id": "4HI13D7sqgzI"
      },
      "source": [
        "Count average positive sentiment"
      ]
    },
    {
      "cell_type": "code",
      "metadata": {
        "id": "VK4Wh-tjqkQm"
      },
      "source": [
        "filter_positive = df[df['sentiment'] == 1]\n",
        "calculate_mean_positive_hourly = filter_positive.groupby(pd.Grouper(key='Timestamp',freq='H'))['compound'].mean()\n",
        "df2['sent_positive'] = calculate_mean_positive_hourly.apply(lambda x: x)"
      ],
      "execution_count": null,
      "outputs": []
    },
    {
      "cell_type": "markdown",
      "metadata": {
        "id": "x8-QqpMBtqs1"
      },
      "source": [
        "Total volume of tweets for each hour"
      ]
    },
    {
      "cell_type": "code",
      "metadata": {
        "id": "JN9RmXYrtu_S",
        "colab": {
          "base_uri": "https://localhost:8080/",
          "height": 428
        },
        "outputId": "28e5d3f0-b966-4f2c-d108-675b0f0458bb"
      },
      "source": [
        "#total volume of tweets include bot tweets\n",
        "total_volume_of_tweets = df.groupby(pd.Grouper(key='Timestamp',freq='H'))['Text'].count()\n",
        "df2['total_volume_of_tweets'] = total_volume_of_tweets.apply(lambda x: x)\n",
        "df2"
      ],
      "execution_count": 25,
      "outputs": [
        {
          "output_type": "execute_result",
          "data": {
            "text/html": [
              "<div>\n",
              "<style scoped>\n",
              "    .dataframe tbody tr th:only-of-type {\n",
              "        vertical-align: middle;\n",
              "    }\n",
              "\n",
              "    .dataframe tbody tr th {\n",
              "        vertical-align: top;\n",
              "    }\n",
              "\n",
              "    .dataframe thead th {\n",
              "        text-align: right;\n",
              "    }\n",
              "</style>\n",
              "<table border=\"1\" class=\"dataframe\">\n",
              "  <thead>\n",
              "    <tr style=\"text-align: right;\">\n",
              "      <th>sentiment</th>\n",
              "      <th>count_negative</th>\n",
              "      <th>count_neutral</th>\n",
              "      <th>count_positive</th>\n",
              "      <th>compound_total</th>\n",
              "      <th>sent_negative</th>\n",
              "      <th>sent_positive</th>\n",
              "      <th>total_volume_of_tweets</th>\n",
              "    </tr>\n",
              "    <tr>\n",
              "      <th>Timestamp</th>\n",
              "      <th></th>\n",
              "      <th></th>\n",
              "      <th></th>\n",
              "      <th></th>\n",
              "      <th></th>\n",
              "      <th></th>\n",
              "      <th></th>\n",
              "    </tr>\n",
              "  </thead>\n",
              "  <tbody>\n",
              "    <tr>\n",
              "      <th>2021-03-20 23:00:00</th>\n",
              "      <td>143</td>\n",
              "      <td>295</td>\n",
              "      <td>367</td>\n",
              "      <td>0.183093</td>\n",
              "      <td>-0.402219</td>\n",
              "      <td>0.484113</td>\n",
              "      <td>997</td>\n",
              "    </tr>\n",
              "    <tr>\n",
              "      <th>2021-03-21 00:00:00</th>\n",
              "      <td>108</td>\n",
              "      <td>300</td>\n",
              "      <td>314</td>\n",
              "      <td>0.196218</td>\n",
              "      <td>-0.415027</td>\n",
              "      <td>0.467108</td>\n",
              "      <td>1001</td>\n",
              "    </tr>\n",
              "    <tr>\n",
              "      <th>2021-03-21 01:00:00</th>\n",
              "      <td>144</td>\n",
              "      <td>349</td>\n",
              "      <td>355</td>\n",
              "      <td>0.130551</td>\n",
              "      <td>-0.445366</td>\n",
              "      <td>0.491345</td>\n",
              "      <td>997</td>\n",
              "    </tr>\n",
              "    <tr>\n",
              "      <th>2021-03-21 02:00:00</th>\n",
              "      <td>149</td>\n",
              "      <td>316</td>\n",
              "      <td>398</td>\n",
              "      <td>0.152785</td>\n",
              "      <td>-0.391138</td>\n",
              "      <td>0.476517</td>\n",
              "      <td>1003</td>\n",
              "    </tr>\n",
              "    <tr>\n",
              "      <th>2021-03-21 03:00:00</th>\n",
              "      <td>142</td>\n",
              "      <td>236</td>\n",
              "      <td>439</td>\n",
              "      <td>0.207234</td>\n",
              "      <td>-0.417404</td>\n",
              "      <td>0.509165</td>\n",
              "      <td>1001</td>\n",
              "    </tr>\n",
              "    <tr>\n",
              "      <th>...</th>\n",
              "      <td>...</td>\n",
              "      <td>...</td>\n",
              "      <td>...</td>\n",
              "      <td>...</td>\n",
              "      <td>...</td>\n",
              "      <td>...</td>\n",
              "      <td>...</td>\n",
              "    </tr>\n",
              "    <tr>\n",
              "      <th>2021-03-25 20:00:00</th>\n",
              "      <td>119</td>\n",
              "      <td>376</td>\n",
              "      <td>393</td>\n",
              "      <td>0.163823</td>\n",
              "      <td>-0.385717</td>\n",
              "      <td>0.522008</td>\n",
              "      <td>1003</td>\n",
              "    </tr>\n",
              "    <tr>\n",
              "      <th>2021-03-25 21:00:00</th>\n",
              "      <td>129</td>\n",
              "      <td>332</td>\n",
              "      <td>372</td>\n",
              "      <td>0.147562</td>\n",
              "      <td>-0.429736</td>\n",
              "      <td>0.500219</td>\n",
              "      <td>994</td>\n",
              "    </tr>\n",
              "    <tr>\n",
              "      <th>2021-03-25 22:00:00</th>\n",
              "      <td>129</td>\n",
              "      <td>319</td>\n",
              "      <td>360</td>\n",
              "      <td>0.187263</td>\n",
              "      <td>-0.405040</td>\n",
              "      <td>0.530194</td>\n",
              "      <td>1000</td>\n",
              "    </tr>\n",
              "    <tr>\n",
              "      <th>2021-03-25 23:00:00</th>\n",
              "      <td>109</td>\n",
              "      <td>300</td>\n",
              "      <td>328</td>\n",
              "      <td>0.155403</td>\n",
              "      <td>-0.410161</td>\n",
              "      <td>0.509616</td>\n",
              "      <td>1002</td>\n",
              "    </tr>\n",
              "    <tr>\n",
              "      <th>2021-03-26 00:00:00</th>\n",
              "      <td>1</td>\n",
              "      <td>4</td>\n",
              "      <td>2</td>\n",
              "      <td>0.053908</td>\n",
              "      <td>-0.571900</td>\n",
              "      <td>0.427550</td>\n",
              "      <td>12</td>\n",
              "    </tr>\n",
              "  </tbody>\n",
              "</table>\n",
              "<p>122 rows × 7 columns</p>\n",
              "</div>"
            ],
            "text/plain": [
              "sentiment            count_negative  ...  total_volume_of_tweets\n",
              "Timestamp                            ...                        \n",
              "2021-03-20 23:00:00             143  ...                     997\n",
              "2021-03-21 00:00:00             108  ...                    1001\n",
              "2021-03-21 01:00:00             144  ...                     997\n",
              "2021-03-21 02:00:00             149  ...                    1003\n",
              "2021-03-21 03:00:00             142  ...                    1001\n",
              "...                             ...  ...                     ...\n",
              "2021-03-25 20:00:00             119  ...                    1003\n",
              "2021-03-25 21:00:00             129  ...                     994\n",
              "2021-03-25 22:00:00             129  ...                    1000\n",
              "2021-03-25 23:00:00             109  ...                    1002\n",
              "2021-03-26 00:00:00               1  ...                      12\n",
              "\n",
              "[122 rows x 7 columns]"
            ]
          },
          "metadata": {
            "tags": []
          },
          "execution_count": 25
        }
      ]
    },
    {
      "cell_type": "markdown",
      "metadata": {
        "id": "YSa_l1OzpGLD"
      },
      "source": [
        "Download the dataframe"
      ]
    },
    {
      "cell_type": "code",
      "metadata": {
        "colab": {
          "base_uri": "https://localhost:8080/",
          "height": 17
        },
        "id": "eKgGn2sGiwgx",
        "outputId": "448c86f5-fd3c-427a-ebe3-d871aa2dc6f7"
      },
      "source": [
        "from google.colab import files\n",
        "df2.to_csv('Data_to_hourly_intervals.csv')\n",
        "files.download('Data_to_hourly_intervals.csv')"
      ],
      "execution_count": null,
      "outputs": [
        {
          "output_type": "display_data",
          "data": {
            "application/javascript": [
              "\n",
              "    async function download(id, filename, size) {\n",
              "      if (!google.colab.kernel.accessAllowed) {\n",
              "        return;\n",
              "      }\n",
              "      const div = document.createElement('div');\n",
              "      const label = document.createElement('label');\n",
              "      label.textContent = `Downloading \"${filename}\": `;\n",
              "      div.appendChild(label);\n",
              "      const progress = document.createElement('progress');\n",
              "      progress.max = size;\n",
              "      div.appendChild(progress);\n",
              "      document.body.appendChild(div);\n",
              "\n",
              "      const buffers = [];\n",
              "      let downloaded = 0;\n",
              "\n",
              "      const channel = await google.colab.kernel.comms.open(id);\n",
              "      // Send a message to notify the kernel that we're ready.\n",
              "      channel.send({})\n",
              "\n",
              "      for await (const message of channel.messages) {\n",
              "        // Send a message to notify the kernel that we're ready.\n",
              "        channel.send({})\n",
              "        if (message.buffers) {\n",
              "          for (const buffer of message.buffers) {\n",
              "            buffers.push(buffer);\n",
              "            downloaded += buffer.byteLength;\n",
              "            progress.value = downloaded;\n",
              "          }\n",
              "        }\n",
              "      }\n",
              "      const blob = new Blob(buffers, {type: 'application/binary'});\n",
              "      const a = document.createElement('a');\n",
              "      a.href = window.URL.createObjectURL(blob);\n",
              "      a.download = filename;\n",
              "      div.appendChild(a);\n",
              "      a.click();\n",
              "      div.remove();\n",
              "    }\n",
              "  "
            ],
            "text/plain": [
              "<IPython.core.display.Javascript object>"
            ]
          },
          "metadata": {
            "tags": []
          }
        },
        {
          "output_type": "display_data",
          "data": {
            "application/javascript": [
              "download(\"download_e675904b-1158-468e-8b81-f4e18d398bad\", \"Data_to_hourly_intervals.csv\", 11736)"
            ],
            "text/plain": [
              "<IPython.core.display.Javascript object>"
            ]
          },
          "metadata": {
            "tags": []
          }
        }
      ]
    }
  ]
}