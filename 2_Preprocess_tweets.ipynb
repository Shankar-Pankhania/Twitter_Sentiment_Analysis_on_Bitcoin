{
  "nbformat": 4,
  "nbformat_minor": 0,
  "metadata": {
    "colab": {
      "name": "2_Preprocess_tweets.ipynb",
      "provenance": [],
      "authorship_tag": "ABX9TyMtrvsyUONJfTwrAbS6Wo2I",
      "include_colab_link": true
    },
    "kernelspec": {
      "name": "python3",
      "display_name": "Python 3"
    }
  },
  "cells": [
    {
      "cell_type": "markdown",
      "metadata": {
        "id": "view-in-github",
        "colab_type": "text"
      },
      "source": [
        "<a href=\"https://colab.research.google.com/github/Shankar-Pankhania/Twitter_Sentiment_Analysis_on_Bitcoin/blob/main/2_Preprocess_tweets.ipynb\" target=\"_parent\"><img src=\"https://colab.research.google.com/assets/colab-badge.svg\" alt=\"Open In Colab\"/></a>"
      ]
    },
    {
      "cell_type": "markdown",
      "metadata": {
        "id": "qsKgmVI5i7T5"
      },
      "source": [
        "Connect to Google Drive"
      ]
    },
    {
      "cell_type": "code",
      "metadata": {
        "id": "bWafcAxL8Qhf",
        "colab": {
          "base_uri": "https://localhost:8080/"
        },
        "outputId": "ed4ba590-3313-481e-922a-a8fb80655c5e"
      },
      "source": [
        "from google.colab import drive \n",
        "drive.mount('/content/drive/')\n",
        "%cd /content/drive/My Drive/Dissertation/\n"
      ],
      "execution_count": null,
      "outputs": [
        {
          "output_type": "stream",
          "text": [
            "Drive already mounted at /content/drive/; to attempt to forcibly remount, call drive.mount(\"/content/drive/\", force_remount=True).\n",
            "/content/drive/My Drive/Dissertation\n"
          ],
          "name": "stdout"
        }
      ]
    },
    {
      "cell_type": "markdown",
      "metadata": {
        "id": "svvjJ3ryi1LX"
      },
      "source": [
        "Import Packages"
      ]
    },
    {
      "cell_type": "code",
      "metadata": {
        "id": "LleQWU0NVVbG"
      },
      "source": [
        "import numpy as np\n",
        "import pandas as pd\n",
        "import json, nltk\n",
        "import matplotlib.pyplot as plt\n",
        "from wordcloud import WordCloud\n",
        "import seaborn as sns\n",
        "from nltk.corpus import stopwords\n",
        "from nltk.tokenize import word_tokenize\n",
        "import re\n",
        "import pandas as pd\n",
        "from nltk.stem.wordnet import WordNetLemmatizer\n",
        "from nltk.stem.porter import *\n",
        "from nltk.sentiment.vader import SentimentIntensityAnalyzer"
      ],
      "execution_count": null,
      "outputs": []
    },
    {
      "cell_type": "code",
      "metadata": {
        "id": "8CqWEZp06Jw3"
      },
      "source": [
        "nltk.download(\"popular\")"
      ],
      "execution_count": null,
      "outputs": []
    },
    {
      "cell_type": "markdown",
      "metadata": {
        "id": "Ro1CePU6jDh_"
      },
      "source": [
        "Read Dataset"
      ]
    },
    {
      "cell_type": "code",
      "metadata": {
        "id": "2uHZusA-xXv_"
      },
      "source": [
        "df = pd.read_csv('bitcoin_tweets.csv')"
      ],
      "execution_count": null,
      "outputs": []
    },
    {
      "cell_type": "markdown",
      "metadata": {
        "id": "JJyp-9pN8UeZ"
      },
      "source": [
        "Stopwords"
      ]
    },
    {
      "cell_type": "code",
      "metadata": {
        "id": "PD6eRK1I8XZa"
      },
      "source": [
        "# Global Parameter\n",
        "stop_words = set(stopwords.words('english'))"
      ],
      "execution_count": null,
      "outputs": []
    },
    {
      "cell_type": "markdown",
      "metadata": {
        "id": "3RUR7bCWUxwK"
      },
      "source": [
        "This function handles emoji classifications"
      ]
    },
    {
      "cell_type": "code",
      "metadata": {
        "id": "YlxUQkojU1X_"
      },
      "source": [
        "def emoji(tweets):\n",
        "    # Smile\n",
        "    tweets = re.sub(r'(:\\s?\\)|:-\\)|\\(\\s?:|\\(-:|:\\'\\)|:O)', ' positiveemoji ', tweets)\n",
        "    # Laugh\n",
        "    tweets = re.sub(r'(:\\s?D|:-D|x-?D|X-?D)', ' positiveemoji ', tweets)\n",
        "    # Love\n",
        "    tweets = re.sub(r'(<3|:\\*)', ' positiveemoji ', tweets)\n",
        "    # Wink\n",
        "    tweets = re.sub(r'(;-?\\)|;-?D|\\(-?;|@-\\))', ' positiveemoji ', tweets)\n",
        "    # Sad\n",
        "    tweets = re.sub(r'(:\\s?\\(|:-\\(|\\)\\s?:|\\)-:|:-/|:-\\|)', ' negetiveemoji ', tweets)\n",
        "    # Cry\n",
        "    tweets = re.sub(r'(:,\\(|:\\'\\(|:\"\\()', ' negetiveemoji ', tweets)\n",
        "    return tweets"
      ],
      "execution_count": null,
      "outputs": []
    },
    {
      "cell_type": "markdown",
      "metadata": {
        "id": "U_2i4GLFU44I"
      },
      "source": [
        "This function will preprocess the tweets without including stop words"
      ]
    },
    {
      "cell_type": "code",
      "metadata": {
        "id": "u-AgYZ0UU6t4"
      },
      "source": [
        "#The code below has been commented out because we will be using stop words for this sentiment analysis. If you would like to check, please uncomment the code and comment the process_tweet function for stop words and run the whole code again.\n",
        "\n",
        "#def process_tweet(tweets):\n",
        "#    tweets = tweets.lower()                                             # Lowercases the string\n",
        "#    tweets = re.sub(r'\\@\\w+|\\#','', tweets)                             # Remove user @ references and '#' from tweets\n",
        "#    tweets = re.sub('((www\\.[^\\s]+)|(https?://[^\\s]+))', ' ', tweets)   # Remove URLs\n",
        "#    tweets = re.sub(r\"\\d+\", \" \", str(tweets))                           # Removes all digits\n",
        "#    tweets = re.sub('&quot;',\" \", tweets)                               # Remove (&quot;) \n",
        "#    tweets = emoji(tweets)                                              # Replaces Emojis\n",
        "#    tweets = re.sub(r\"\\b[a-zA-Z]\\b\", \"\", str(tweets))                   # Removes all single characters\n",
        "#    tweets = re.sub(r\"[^\\w\\s]\", \" \", str(tweets))                       # Removes all punctuations\n",
        "#    tweets = re.sub(r'(.)\\1+', r'\\1\\1', tweets)                         # Convert more than 2 letter repetitions to 2 letter\n",
        "#    tweets = re.sub(r\"\\s+\", \" \", str(tweets))                           # Replaces double spaces with single space   \n",
        "#    return tweets                            "
      ],
      "execution_count": null,
      "outputs": []
    },
    {
      "cell_type": "markdown",
      "metadata": {
        "id": "5bIo_q2Hkats"
      },
      "source": [
        "This function will preprocess the tweet including stop words"
      ]
    },
    {
      "cell_type": "code",
      "metadata": {
        "id": "tPzky0gvkZ9i"
      },
      "source": [
        "def process_tweet(tweets):\n",
        "    tweets = tweets.lower()                                             # Lowercases the string\n",
        "    tweets = re.sub(r'\\@\\w+|\\#','', tweets)                             # Remove user @ references and '#' from tweets\n",
        "    tweets = re.sub('((www\\.[^\\s]+)|(https?://[^\\s]+))', ' ', tweets)   # Remove URLs\n",
        "    tweets = re.sub(r\"\\d+\", \" \", str(tweets))                           # Removes all digits\n",
        "    tweets = re.sub('&quot;',\" \", tweets)                               # Remove (&quot;) \n",
        "    tweets = emoji(tweets)                                              # Replaces Emojis\n",
        "    tweets = re.sub(r\"\\b[a-zA-Z]\\b\", \"\", str(tweets))                   # Removes all single characters\n",
        "    tweets = re.sub(r\"[^\\w\\s]\", \" \", str(tweets))                       # Removes all punctuations\n",
        "    tweets = re.sub(r'(.)\\1+', r'\\1\\1', tweets)                         # Convert more than 2 letter repetitions to 2 letter\n",
        "    tweets = re.sub(r\"\\s+\", \" \", str(tweets))                           # Replaces double spaces with single space   \n",
        "    tweet_tokens = word_tokenize(tweets)                                # Removes stopwords \n",
        "    filtered_words = [w for w in tweet_tokens if not w in stop_words] \n",
        "    return \" \".join(filtered_words)     "
      ],
      "execution_count": null,
      "outputs": []
    },
    {
      "cell_type": "markdown",
      "metadata": {
        "id": "8iR6XcUXVDo-"
      },
      "source": [
        "Comparison of processed tweets vs original tweets"
      ]
    },
    {
      "cell_type": "code",
      "metadata": {
        "id": "hVpTEuT1VHZY",
        "colab": {
          "base_uri": "https://localhost:8080/",
          "height": 419
        },
        "outputId": "a26119b5-1820-4233-cc7f-d98f788dc530"
      },
      "source": [
        "df['processed_tweet'] = np.vectorize(process_tweet)(df['Text'])\n",
        "df[['processed_tweet','Text']]"
      ],
      "execution_count": null,
      "outputs": [
        {
          "output_type": "execute_result",
          "data": {
            "text/html": [
              "<div>\n",
              "<style scoped>\n",
              "    .dataframe tbody tr th:only-of-type {\n",
              "        vertical-align: middle;\n",
              "    }\n",
              "\n",
              "    .dataframe tbody tr th {\n",
              "        vertical-align: top;\n",
              "    }\n",
              "\n",
              "    .dataframe thead th {\n",
              "        text-align: right;\n",
              "    }\n",
              "</style>\n",
              "<table border=\"1\" class=\"dataframe\">\n",
              "  <thead>\n",
              "    <tr style=\"text-align: right;\">\n",
              "      <th></th>\n",
              "      <th>processed_tweet</th>\n",
              "      <th>Text</th>\n",
              "    </tr>\n",
              "  </thead>\n",
              "  <tbody>\n",
              "    <tr>\n",
              "      <th>0</th>\n",
              "      <td>coindesk bitcoin currency world scaramucci qui...</td>\n",
              "      <td>b\"CoinDesk: Will Bitcoin Be the Currency of th...</td>\n",
              "    </tr>\n",
              "    <tr>\n",
              "      <th>1</th>\n",
              "      <td>bitcoin life club strive help many become owne...</td>\n",
              "      <td>b'Bitcoin Life Club strive to help as many as ...</td>\n",
              "    </tr>\n",
              "    <tr>\n",
              "      <th>2</th>\n",
              "      <td>bitcoin ncurrent price xe xac ncryptocurrencie...</td>\n",
              "      <td>b'#Bitcoin\\nCurrent Price:\\n$ 58126.19\\n\\xe2\\x...</td>\n",
              "    </tr>\n",
              "    <tr>\n",
              "      <th>3</th>\n",
              "      <td>purchase bitcoin coinmama paybis xe glad show ...</td>\n",
              "      <td>b'@MarekZee You can purchase bitcoin at Coinma...</td>\n",
              "    </tr>\n",
              "    <tr>\n",
              "      <th>4</th>\n",
              "      <td>investing optimal crypto portfolio cash past h...</td>\n",
              "      <td>b'#Investing 74.7% in this optimal #crypto por...</td>\n",
              "    </tr>\n",
              "    <tr>\n",
              "      <th>...</th>\n",
              "      <td>...</td>\n",
              "      <td>...</td>\n",
              "    </tr>\n",
              "    <tr>\n",
              "      <th>118590</th>\n",
              "      <td>bitcoin money dollars use today</td>\n",
              "      <td>b'#Bitcoin is more money than the dollars I us...</td>\n",
              "    </tr>\n",
              "    <tr>\n",
              "      <th>118591</th>\n",
              "      <td>basically thought scam like rest bitcoin accou...</td>\n",
              "      <td>b'@eNCA I basically thought  @Ericwalker01 was...</td>\n",
              "    </tr>\n",
              "    <tr>\n",
              "      <th>118592</th>\n",
              "      <td>soo everyone bags bitcoin cryptocurrencies</td>\n",
              "      <td>b\"Soooo... How are everyone's bags doing? #Bit...</td>\n",
              "    </tr>\n",
              "    <tr>\n",
              "      <th>118593</th>\n",
              "      <td>new working home bitcoin trading options nhere...</td>\n",
              "      <td>b\"@TheAtlantic @KatherineJWu For all those who...</td>\n",
              "    </tr>\n",
              "    <tr>\n",
              "      <th>118594</th>\n",
              "      <td>xe know bitcoin puddle sure dance</td>\n",
              "      <td>b'@Richardjlimas @POODLUpdates Don\\xe2\\x80\\x99...</td>\n",
              "    </tr>\n",
              "  </tbody>\n",
              "</table>\n",
              "<p>118595 rows × 2 columns</p>\n",
              "</div>"
            ],
            "text/plain": [
              "                                          processed_tweet                                               Text\n",
              "0       coindesk bitcoin currency world scaramucci qui...  b\"CoinDesk: Will Bitcoin Be the Currency of th...\n",
              "1       bitcoin life club strive help many become owne...  b'Bitcoin Life Club strive to help as many as ...\n",
              "2       bitcoin ncurrent price xe xac ncryptocurrencie...  b'#Bitcoin\\nCurrent Price:\\n$ 58126.19\\n\\xe2\\x...\n",
              "3       purchase bitcoin coinmama paybis xe glad show ...  b'@MarekZee You can purchase bitcoin at Coinma...\n",
              "4       investing optimal crypto portfolio cash past h...  b'#Investing 74.7% in this optimal #crypto por...\n",
              "...                                                   ...                                                ...\n",
              "118590                    bitcoin money dollars use today  b'#Bitcoin is more money than the dollars I us...\n",
              "118591  basically thought scam like rest bitcoin accou...  b'@eNCA I basically thought  @Ericwalker01 was...\n",
              "118592         soo everyone bags bitcoin cryptocurrencies  b\"Soooo... How are everyone's bags doing? #Bit...\n",
              "118593  new working home bitcoin trading options nhere...  b\"@TheAtlantic @KatherineJWu For all those who...\n",
              "118594                  xe know bitcoin puddle sure dance  b'@Richardjlimas @POODLUpdates Don\\xe2\\x80\\x99...\n",
              "\n",
              "[118595 rows x 2 columns]"
            ]
          },
          "metadata": {
            "tags": []
          },
          "execution_count": 14
        }
      ]
    },
    {
      "cell_type": "markdown",
      "metadata": {
        "id": "KQYKmD-_rGSi"
      },
      "source": [
        "\n",
        "Tokenization"
      ]
    },
    {
      "cell_type": "code",
      "metadata": {
        "id": "G_rkocKlrMwk",
        "colab": {
          "base_uri": "https://localhost:8080/"
        },
        "outputId": "b7dcdb32-cb21-42e0-a01e-63b26b01c6bf"
      },
      "source": [
        "tokenized_tweets = df['processed_tweet'].apply(lambda x: x.split())\n",
        "tokenized_tweets"
      ],
      "execution_count": null,
      "outputs": [
        {
          "output_type": "execute_result",
          "data": {
            "text/plain": [
              "0         [coindesk, bitcoin, currency, world, scaramucc...\n",
              "1         [bitcoin, life, club, strive, help, many, beco...\n",
              "2         [bitcoin, ncurrent, price, xe, xac, ncryptocur...\n",
              "3         [purchase, bitcoin, coinmama, paybis, xe, glad...\n",
              "4         [investing, optimal, crypto, portfolio, cash, ...\n",
              "                                ...                        \n",
              "118590                [bitcoin, money, dollars, use, today]\n",
              "118591    [basically, thought, scam, like, rest, bitcoin...\n",
              "118592     [soo, everyone, bags, bitcoin, cryptocurrencies]\n",
              "118593    [new, working, home, bitcoin, trading, options...\n",
              "118594             [xe, know, bitcoin, puddle, sure, dance]\n",
              "Name: processed_tweet, Length: 118595, dtype: object"
            ]
          },
          "metadata": {
            "tags": []
          },
          "execution_count": 15
        }
      ]
    },
    {
      "cell_type": "markdown",
      "metadata": {
        "id": "UA538EojrS0o"
      },
      "source": [
        "Lemmatization"
      ]
    },
    {
      "cell_type": "code",
      "metadata": {
        "id": "8-1bFm2NrVX7"
      },
      "source": [
        "lemmatizer = WordNetLemmatizer()\n",
        "\n",
        "tokenized_tweets = tokenized_tweets.apply(lambda x: [lemmatizer.lemmatize(i) for i in x])"
      ],
      "execution_count": null,
      "outputs": []
    },
    {
      "cell_type": "markdown",
      "metadata": {
        "id": "SgnuUwO0REe_"
      },
      "source": [
        "Stemming"
      ]
    },
    {
      "cell_type": "code",
      "metadata": {
        "id": "TpJsBJ9HRGzV"
      },
      "source": [
        "#The code below has been commented out because we will be using Lemmatization instead of Stemming for this sentiment analysis.\n",
        "\n",
        "##stemmer = PorterStemmer()\n",
        "\n",
        "#tokenized_tweets = tokenized_tweets.apply(lambda x: [stemmer.stem(i) for i in x])\n",
        "#tokenized_tweets.head()"
      ],
      "execution_count": null,
      "outputs": []
    },
    {
      "cell_type": "markdown",
      "metadata": {
        "id": "iNabQL2r3xvo"
      },
      "source": [
        "VADER "
      ]
    },
    {
      "cell_type": "code",
      "metadata": {
        "id": "DlrUL-L6tGrU"
      },
      "source": [
        "nltk.download('vader_lexicon')\n",
        "\n",
        "sid = SentimentIntensityAnalyzer()"
      ],
      "execution_count": null,
      "outputs": []
    },
    {
      "cell_type": "markdown",
      "metadata": {
        "id": "zpQ6HFTz38Pb"
      },
      "source": [
        "Generate sentiment polarity for each tweet"
      ]
    },
    {
      "cell_type": "code",
      "metadata": {
        "id": "hb0BIa-cs3I1"
      },
      "source": [
        "df['scores'] = df['processed_tweet'].apply(lambda Description: sid.polarity_scores(Description))"
      ],
      "execution_count": null,
      "outputs": []
    },
    {
      "cell_type": "markdown",
      "metadata": {
        "id": "JMuXeVjb4ChP"
      },
      "source": [
        "Generate a compound value and a sentiment type for each tweet"
      ]
    },
    {
      "cell_type": "code",
      "metadata": {
        "id": "uNwRvhgxtkBw"
      },
      "source": [
        "df['compound'] = df['scores'].apply(lambda score_dict: score_dict['compound'])\n",
        "df['sentiment']=''\n",
        "df.loc[df.compound>0,'sentiment']=1       #positive sentiment\n",
        "df.loc[df.compound==0,'sentiment']=0      #neutral sentiment\n",
        "df.loc[df.compound<0,'sentiment']=-1      #negative sentiment"
      ],
      "execution_count": null,
      "outputs": []
    },
    {
      "cell_type": "markdown",
      "metadata": {
        "id": "u1tJDlZ04gf5"
      },
      "source": [
        "Plot the sentiment classifications"
      ]
    },
    {
      "cell_type": "code",
      "metadata": {
        "colab": {
          "base_uri": "https://localhost:8080/",
          "height": 299
        },
        "id": "B0sWDSyJt1Lp",
        "outputId": "ce7e7977-7cd9-486c-fe4f-285a23ebf546"
      },
      "source": [
        "df.sentiment.value_counts().plot(kind='bar',title=\"sentiment analysis\")"
      ],
      "execution_count": null,
      "outputs": [
        {
          "output_type": "execute_result",
          "data": {
            "text/plain": [
              "<matplotlib.axes._subplots.AxesSubplot at 0x7ff2d3240c10>"
            ]
          },
          "metadata": {
            "tags": []
          },
          "execution_count": 21
        },
        {
          "output_type": "display_data",
          "data": {
            "image/png": "[encoded data removed]",
            "text/plain": [
              "<Figure size 432x288 with 1 Axes>"
            ]
          },
          "metadata": {
            "tags": [],
            "needs_background": "light"
          }
        }
      ]
    },
    {
      "cell_type": "markdown",
      "metadata": {
        "id": "TxtscJ874uxT"
      },
      "source": [
        "Download the CSV file"
      ]
    },
    {
      "cell_type": "code",
      "metadata": {
        "colab": {
          "base_uri": "https://localhost:8080/",
          "height": 17
        },
        "id": "J4ANwAWf9Zjl",
        "outputId": "11044c42-9e51-4c7d-a7c7-6d69095c36b8"
      },
      "source": [
        "from google.colab import files\n",
        "df.to_csv('bitcoin_tweets.csv')\n",
        "files.download('bitcoin_tweets.csv')"
      ],
      "execution_count": null,
      "outputs": [
        {
          "output_type": "display_data",
          "data": {
            "application/javascript": [
              "\n",
              "    async function download(id, filename, size) {\n",
              "      if (!google.colab.kernel.accessAllowed) {\n",
              "        return;\n",
              "      }\n",
              "      const div = document.createElement('div');\n",
              "      const label = document.createElement('label');\n",
              "      label.textContent = `Downloading \"${filename}\": `;\n",
              "      div.appendChild(label);\n",
              "      const progress = document.createElement('progress');\n",
              "      progress.max = size;\n",
              "      div.appendChild(progress);\n",
              "      document.body.appendChild(div);\n",
              "\n",
              "      const buffers = [];\n",
              "      let downloaded = 0;\n",
              "\n",
              "      const channel = await google.colab.kernel.comms.open(id);\n",
              "      // Send a message to notify the kernel that we're ready.\n",
              "      channel.send({})\n",
              "\n",
              "      for await (const message of channel.messages) {\n",
              "        // Send a message to notify the kernel that we're ready.\n",
              "        channel.send({})\n",
              "        if (message.buffers) {\n",
              "          for (const buffer of message.buffers) {\n",
              "            buffers.push(buffer);\n",
              "            downloaded += buffer.byteLength;\n",
              "            progress.value = downloaded;\n",
              "          }\n",
              "        }\n",
              "      }\n",
              "      const blob = new Blob(buffers, {type: 'application/binary'});\n",
              "      const a = document.createElement('a');\n",
              "      a.href = window.URL.createObjectURL(blob);\n",
              "      a.download = filename;\n",
              "      div.appendChild(a);\n",
              "      a.click();\n",
              "      div.remove();\n",
              "    }\n",
              "  "
            ],
            "text/plain": [
              "<IPython.core.display.Javascript object>"
            ]
          },
          "metadata": {
            "tags": []
          }
        },
        {
          "output_type": "display_data",
          "data": {
            "application/javascript": [
              "download(\"download_d9755b92-60bd-4872-ae36-481f36619c24\", \"bitcoin_tweets.csv\", 37925353)"
            ],
            "text/plain": [
              "<IPython.core.display.Javascript object>"
            ]
          },
          "metadata": {
            "tags": []
          }
        }
      ]
    }
  ]
}