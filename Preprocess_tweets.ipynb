{
  "nbformat": 4,
  "nbformat_minor": 0,
  "metadata": {
    "colab": {
      "name": "Preprocess_tweets.ipynb",
      "provenance": [],
      "authorship_tag": "ABX9TyNpQV+EstC04D+F6xCI05AM",
      "include_colab_link": true
    },
    "kernelspec": {
      "name": "python3",
      "display_name": "Python 3"
    }
  },
  "cells": [
    {
      "cell_type": "markdown",
      "metadata": {
        "id": "view-in-github",
        "colab_type": "text"
      },
      "source": [
        "<a href=\"https://colab.research.google.com/github/Shankar-Pankhania/Twitter_Sentiment_Analysis_on_Bitcoin/blob/main/Preprocess_tweets.ipynb\" target=\"_parent\"><img src=\"https://colab.research.google.com/assets/colab-badge.svg\" alt=\"Open In Colab\"/></a>"
      ]
    },
    {
      "cell_type": "code",
      "metadata": {
        "id": "bWafcAxL8Qhf"
      },
      "source": [
        "from google.colab import drive \n",
        "drive.mount('/content/drive/')\n",
        "%cd /content/drive/My Drive/Dissertation/\n"
      ],
      "execution_count": null,
      "outputs": []
    },
    {
      "cell_type": "code",
      "metadata": {
        "id": "8CqWEZp06Jw3"
      },
      "source": [
        "import nltk\n",
        "nltk.download(\"popular\")\n",
        "\n"
      ],
      "execution_count": null,
      "outputs": []
    },
    {
      "cell_type": "code",
      "metadata": {
        "id": "LleQWU0NVVbG"
      },
      "source": [
        "import numpy as np\n",
        "import pandas as pd\n",
        "import json, nltk\n",
        "import matplotlib.pyplot as plt\n",
        "from wordcloud import WordCloud\n",
        "import seaborn as sns"
      ],
      "execution_count": null,
      "outputs": []
    },
    {
      "cell_type": "code",
      "metadata": {
        "id": "2uHZusA-xXv_"
      },
      "source": [
        "import pandas as pd\n",
        "\n",
        "df = pd.read_csv('bitcoin_tweets.csv')"
      ],
      "execution_count": null,
      "outputs": []
    },
    {
      "cell_type": "markdown",
      "metadata": {
        "id": "JJyp-9pN8UeZ"
      },
      "source": [
        "Stopwords"
      ]
    },
    {
      "cell_type": "code",
      "metadata": {
        "id": "PD6eRK1I8XZa"
      },
      "source": [
        "from nltk.corpus import stopwords\n",
        "from nltk.tokenize import word_tokenize\n",
        "\n",
        "# Global Parameters\n",
        "stop_words = set(stopwords.words('english'))"
      ],
      "execution_count": null,
      "outputs": []
    },
    {
      "cell_type": "markdown",
      "metadata": {
        "id": "3RUR7bCWUxwK"
      },
      "source": [
        "Define a function which handles emoji classifications"
      ]
    },
    {
      "cell_type": "code",
      "metadata": {
        "id": "YlxUQkojU1X_"
      },
      "source": [
        "def emoji(tweet):\n",
        "    # Smile -- :), : ), :-), (:, ( :, (-:, :') , :O\n",
        "    tweet = re.sub(r'(:\\s?\\)|:-\\)|\\(\\s?:|\\(-:|:\\'\\)|:O)', ' positiveemoji ', tweet)\n",
        "    # Laugh -- :D, : D, :-D, xD, x-D, XD, X-D\n",
        "    tweet = re.sub(r'(:\\s?D|:-D|x-?D|X-?D)', ' positiveemoji ', tweet)\n",
        "    # Love -- <3, :*\n",
        "    tweet = re.sub(r'(<3|:\\*)', ' positiveemoji ', tweet)\n",
        "    # Wink -- ;-), ;), ;-D, ;D, (;,  (-; , @-)\n",
        "    tweet = re.sub(r'(;-?\\)|;-?D|\\(-?;|@-\\))', ' positiveemoji ', tweet)\n",
        "    # Sad -- :-(, : (, :(, ):, )-:, :-/ , :-|\n",
        "    tweet = re.sub(r'(:\\s?\\(|:-\\(|\\)\\s?:|\\)-:|:-/|:-\\|)', ' negetiveemoji ', tweet)\n",
        "    # Cry -- :,(, :'(, :\"(\n",
        "    tweet = re.sub(r'(:,\\(|:\\'\\(|:\"\\()', ' negetiveemoji ', tweet)\n",
        "    return tweet"
      ],
      "execution_count": null,
      "outputs": []
    },
    {
      "cell_type": "markdown",
      "metadata": {
        "id": "U_2i4GLFU44I"
      },
      "source": [
        "Define a function which will preprocess the tweets"
      ]
    },
    {
      "cell_type": "code",
      "metadata": {
        "id": "u-AgYZ0UU6t4"
      },
      "source": [
        "import re\n",
        "\n",
        "def process_tweet(tweet):\n",
        "    tweet = tweet.lower()                                             # Lowercases the string\n",
        "    tweet = re.sub(r'\\@\\w+|\\#','', tweet)                             # Remove user @ references and '#' from tweet\n",
        "    tweet = re.sub('((www\\.[^\\s]+)|(https?://[^\\s]+))', ' ', tweet)   # Remove URLs\n",
        "    tweet = re.sub(r\"\\d+\", \" \", str(tweet))                           # Removes all digits\n",
        "    tweet = re.sub('&quot;',\" \", tweet)                               # Remove (&quot;) \n",
        "    tweet = emoji(tweet)                                              # Replaces Emojis\n",
        "    tweet = re.sub(r\"\\b[a-zA-Z]\\b\", \"\", str(tweet))                   # Removes all single characters\n",
        "    tweet = re.sub(r\"[^\\w\\s]\", \" \", str(tweet))                       # Removes all punctuations\n",
        "    tweet = re.sub(r'(.)\\1+', r'\\1\\1', tweet)                         # Convert more than 2 letter repetitions to 2 letter\n",
        "    tweet = re.sub(r\"\\s+\", \" \", str(tweet))                           # Replaces double spaces with single space   \n",
        "    tweet_tokens = word_tokenize(tweet)                               # Removes stopwords\n",
        "    filtered_words = [w for w in tweet_tokens if not w in stop_words]\n",
        "    return \" \".join(filtered_words)"
      ],
      "execution_count": null,
      "outputs": []
    },
    {
      "cell_type": "markdown",
      "metadata": {
        "id": "8iR6XcUXVDo-"
      },
      "source": [
        "Now make a new column for side by side comparison of new tweets vs old tweets"
      ]
    },
    {
      "cell_type": "code",
      "metadata": {
        "id": "hVpTEuT1VHZY"
      },
      "source": [
        "df['processed_tweet'] = np.vectorize(process_tweet)(df['Text'])"
      ],
      "execution_count": null,
      "outputs": []
    },
    {
      "cell_type": "markdown",
      "metadata": {
        "id": "KQYKmD-_rGSi"
      },
      "source": [
        "\n",
        "Tokenization"
      ]
    },
    {
      "cell_type": "code",
      "metadata": {
        "id": "G_rkocKlrMwk"
      },
      "source": [
        "tokenized_tweet = df['processed_tweet'].apply(lambda x: x.split())"
      ],
      "execution_count": null,
      "outputs": []
    },
    {
      "cell_type": "markdown",
      "metadata": {
        "id": "UA538EojrS0o"
      },
      "source": [
        "\n",
        "Lemmatization"
      ]
    },
    {
      "cell_type": "code",
      "metadata": {
        "id": "8-1bFm2NrVX7"
      },
      "source": [
        "from nltk.stem.wordnet import WordNetLemmatizer\n",
        "lemmatizer = WordNetLemmatizer()\n",
        "\n",
        "tokenized_tweet = tokenized_tweet.apply(lambda x: [lemmatizer.lemmatize(i) for i in x])"
      ],
      "execution_count": null,
      "outputs": []
    },
    {
      "cell_type": "markdown",
      "metadata": {
        "id": "iNabQL2r3xvo"
      },
      "source": [
        "VADER "
      ]
    },
    {
      "cell_type": "code",
      "metadata": {
        "id": "DlrUL-L6tGrU"
      },
      "source": [
        "import nltk\n",
        "nltk.download('vader_lexicon')\n",
        "from nltk.sentiment.vader import SentimentIntensityAnalyzer\n",
        "sid = SentimentIntensityAnalyzer()"
      ],
      "execution_count": null,
      "outputs": []
    },
    {
      "cell_type": "markdown",
      "metadata": {
        "id": "zpQ6HFTz38Pb"
      },
      "source": [
        "Generate sentiment polarity for each tweet"
      ]
    },
    {
      "cell_type": "code",
      "metadata": {
        "id": "hb0BIa-cs3I1"
      },
      "source": [
        "df['scores'] = df['processed_tweet'].apply(lambda Description: sid.polarity_scores(Description))"
      ],
      "execution_count": null,
      "outputs": []
    },
    {
      "cell_type": "markdown",
      "metadata": {
        "id": "JMuXeVjb4ChP"
      },
      "source": [
        "Generate a compound value and a sentiment type for each tweet"
      ]
    },
    {
      "cell_type": "code",
      "metadata": {
        "id": "uNwRvhgxtkBw"
      },
      "source": [
        "df['compound'] = df['scores'].apply(lambda score_dict: score_dict['compound'])\n",
        "df['sentiment']=''\n",
        "df.loc[df.compound>0,'sentiment']=1\n",
        "df.loc[df.compound==0,'sentiment']=0\n",
        "df.loc[df.compound<0,'sentiment']=-1\n",
        "#df.drop(['sentiment_type'], axis=1)"
      ],
      "execution_count": null,
      "outputs": []
    },
    {
      "cell_type": "markdown",
      "metadata": {
        "id": "u1tJDlZ04gf5"
      },
      "source": [
        "Plot the sentiments of each tweet"
      ]
    },
    {
      "cell_type": "code",
      "metadata": {
        "colab": {
          "base_uri": "https://localhost:8080/",
          "height": 297
        },
        "id": "B0sWDSyJt1Lp",
        "outputId": "b45bde0b-8be1-4234-81cd-15848dfa1011"
      },
      "source": [
        "df.sentiment.value_counts().plot(kind='bar',title=\"sentiment analysis\")"
      ],
      "execution_count": null,
      "outputs": [
        {
          "output_type": "execute_result",
          "data": {
            "text/plain": [
              "<matplotlib.axes._subplots.AxesSubplot at 0x7f0db51fb110>"
            ]
          },
          "metadata": {
            "tags": []
          },
          "execution_count": 25
        },
        {
          "output_type": "display_data",
          "data": {
            "image/png": "[encoded data removed]",
            "text/plain": [
              "<Figure size 432x288 with 1 Axes>"
            ]
          },
          "metadata": {
            "tags": [],
            "needs_background": "light"
          }
        }
      ]
    },
    {
      "cell_type": "markdown",
      "metadata": {
        "id": "TxtscJ874uxT"
      },
      "source": [
        "Download the CSV file"
      ]
    },
    {
      "cell_type": "code",
      "metadata": {
        "colab": {
          "base_uri": "https://localhost:8080/",
          "height": 17
        },
        "id": "J4ANwAWf9Zjl",
        "outputId": "eacf6e81-dbbe-432e-ae59-0faa983b45d7"
      },
      "source": [
        "from google.colab import files\n",
        "df.to_csv('bitcoin_tweets.csv')\n",
        "files.download('bitcoin_tweets.csv')"
      ],
      "execution_count": null,
      "outputs": [
        {
          "output_type": "display_data",
          "data": {
            "application/javascript": [
              "\n",
              "    async function download(id, filename, size) {\n",
              "      if (!google.colab.kernel.accessAllowed) {\n",
              "        return;\n",
              "      }\n",
              "      const div = document.createElement('div');\n",
              "      const label = document.createElement('label');\n",
              "      label.textContent = `Downloading \"${filename}\": `;\n",
              "      div.appendChild(label);\n",
              "      const progress = document.createElement('progress');\n",
              "      progress.max = size;\n",
              "      div.appendChild(progress);\n",
              "      document.body.appendChild(div);\n",
              "\n",
              "      const buffers = [];\n",
              "      let downloaded = 0;\n",
              "\n",
              "      const channel = await google.colab.kernel.comms.open(id);\n",
              "      // Send a message to notify the kernel that we're ready.\n",
              "      channel.send({})\n",
              "\n",
              "      for await (const message of channel.messages) {\n",
              "        // Send a message to notify the kernel that we're ready.\n",
              "        channel.send({})\n",
              "        if (message.buffers) {\n",
              "          for (const buffer of message.buffers) {\n",
              "            buffers.push(buffer);\n",
              "            downloaded += buffer.byteLength;\n",
              "            progress.value = downloaded;\n",
              "          }\n",
              "        }\n",
              "      }\n",
              "      const blob = new Blob(buffers, {type: 'application/binary'});\n",
              "      const a = document.createElement('a');\n",
              "      a.href = window.URL.createObjectURL(blob);\n",
              "      a.download = filename;\n",
              "      div.appendChild(a);\n",
              "      a.click();\n",
              "      div.remove();\n",
              "    }\n",
              "  "
            ],
            "text/plain": [
              "<IPython.core.display.Javascript object>"
            ]
          },
          "metadata": {
            "tags": []
          }
        },
        {
          "output_type": "display_data",
          "data": {
            "application/javascript": [
              "download(\"download_15e29c00-1b68-4ddf-9671-be7ddd157c21\", \"bitcoin_tweets.csv\", 37925353)"
            ],
            "text/plain": [
              "<IPython.core.display.Javascript object>"
            ]
          },
          "metadata": {
            "tags": []
          }
        }
      ]
    }
  ]
}