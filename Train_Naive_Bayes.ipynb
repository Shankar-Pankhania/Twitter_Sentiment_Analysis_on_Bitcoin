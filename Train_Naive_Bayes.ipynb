{
  "nbformat": 4,
  "nbformat_minor": 0,
  "metadata": {
    "colab": {
      "name": "Train_Naive_Bayes.ipynb",
      "provenance": [],
      "authorship_tag": "ABX9TyOy9CcMynuhtgdYvTosFLnC",
      "include_colab_link": true
    },
    "kernelspec": {
      "name": "python3",
      "display_name": "Python 3"
    },
    "language_info": {
      "name": "python"
    }
  },
  "cells": [
    {
      "cell_type": "markdown",
      "metadata": {
        "id": "view-in-github",
        "colab_type": "text"
      },
      "source": [
        "<a href=\"https://colab.research.google.com/github/Shankar-Pankhania/Twitter_Sentiment_Analysis_on_Bitcoin/blob/main/Train_Naive_Bayes.ipynb\" target=\"_parent\"><img src=\"https://colab.research.google.com/assets/colab-badge.svg\" alt=\"Open In Colab\"/></a>"
      ]
    },
    {
      "cell_type": "code",
      "metadata": {
        "id": "-RCns8UHDBtr",
        "colab": {
          "base_uri": "https://localhost:8080/"
        },
        "outputId": "3340b02b-9a66-496f-f229-9469c726133e"
      },
      "source": [
        "from google.colab import drive \n",
        "drive.mount('/content/drive/')\n",
        "%cd /content/drive/My Drive/Dissertation/"
      ],
      "execution_count": 7,
      "outputs": [
        {
          "output_type": "stream",
          "text": [
            "Drive already mounted at /content/drive/; to attempt to forcibly remount, call drive.mount(\"/content/drive/\", force_remount=True).\n",
            "/content/drive/My Drive/Dissertation\n"
          ],
          "name": "stdout"
        }
      ]
    },
    {
      "cell_type": "markdown",
      "metadata": {
        "id": "ZeIzRkylQ9Aq"
      },
      "source": [
        "Import the packages\n",
        "\n"
      ]
    },
    {
      "cell_type": "code",
      "metadata": {
        "id": "gMloNVSnQ7rC"
      },
      "source": [
        "import numpy as np\n",
        "import pandas as pd\n",
        "import json, nltk\n",
        "import matplotlib.pyplot as plt\n",
        "from wordcloud import WordCloud\n",
        "import seaborn as sns\n",
        "from sklearn.feature_extraction.text import CountVectorizer\n",
        "from sklearn.feature_extraction.text import TfidfVectorizer \n",
        "from sklearn import model_selection\n",
        "from sklearn.model_selection import KFold\n",
        "from sklearn.naive_bayes import MultinomialNB  # Naive Bayes Classifier\n",
        "from sklearn.metrics import confusion_matrix\n",
        "from sklearn.metrics import accuracy_score\n",
        "from sklearn.metrics import classification_report\n",
        "from sklearn.model_selection import train_test_split\n",
        "from sklearn.metrics import roc_curve\n",
        "from sklearn.metrics import auc"
      ],
      "execution_count": 19,
      "outputs": []
    },
    {
      "cell_type": "markdown",
      "metadata": {
        "id": "ZL0wk4_c1IjK"
      },
      "source": [
        "Read dataset"
      ]
    },
    {
      "cell_type": "code",
      "metadata": {
        "id": "u7J6MY2lKaKn"
      },
      "source": [
        "total_dataset = pd.read_csv('bitcoin_tweets.csv')\n",
        "total_dataset = total_dataset[total_dataset.sentiment != 0] #remove neutral tweets, only need positve and negative sentiments.\n",
        "total_dataset['sentiment'] = total_dataset['sentiment'].replace(-1, 0) #replaces negative sentiment -1 with 0 for analysis"
      ],
      "execution_count": 9,
      "outputs": []
    },
    {
      "cell_type": "markdown",
      "metadata": {
        "id": "q0JzEKNzKkfF"
      },
      "source": [
        "Count *Vectorizer*"
      ]
    },
    {
      "cell_type": "code",
      "metadata": {
        "id": "AR0ZO6pqKnVf"
      },
      "source": [
        "count_vectorizer = CountVectorizer(ngram_range=(1,2))    # Unigram and Bigram\n",
        "vectorized_data = count_vectorizer.fit_transform(total_dataset['processed_tweet'].values.astype('U')) "
      ],
      "execution_count": 10,
      "outputs": []
    },
    {
      "cell_type": "markdown",
      "metadata": {
        "id": "7a_i4OQeXSZs"
      },
      "source": [
        "TF-IDF Vectorizer"
      ]
    },
    {
      "cell_type": "code",
      "metadata": {
        "id": "U0BcggTXXSq0"
      },
      "source": [
        "#tf_idf_vectorizer = TfidfVectorizer(use_idf=True,ngram_range=(1,2)) # Unigram and Bigram\n",
        "#vectorized_data = tf_idf_vectorizer.fit_transform(total_dataset['processed_tweet'])"
      ],
      "execution_count": null,
      "outputs": []
    },
    {
      "cell_type": "markdown",
      "metadata": {
        "id": "pRKGahrZL1LW"
      },
      "source": [
        "Splitting"
      ]
    },
    {
      "cell_type": "code",
      "metadata": {
        "id": "SXy-MJRxL24m"
      },
      "source": [
        "X_train, X_test, y_train, y_test = train_test_split(vectorized_data, total_dataset['sentiment'], test_size=0.2, random_state=69)"
      ],
      "execution_count": 11,
      "outputs": []
    },
    {
      "cell_type": "markdown",
      "metadata": {
        "id": "UaHDUMxaCBXM"
      },
      "source": [
        "K Fold Cross Validation for Naive Bayes"
      ]
    },
    {
      "cell_type": "code",
      "metadata": {
        "colab": {
          "base_uri": "https://localhost:8080/"
        },
        "id": "YfxoIPZ0CEo0",
        "outputId": "58874fe8-361a-4bc3-cfda-6bb33e7581fa"
      },
      "source": [
        "# data is an array with our already pre-processed dataset examples\n",
        "kfold = model_selection.KFold(n_splits=10, random_state=None)\n",
        "model_kfold = MultinomialNB()\n",
        "results_kfold = model_selection.cross_val_score(model_kfold, vectorized_data, total_dataset['sentiment'], scoring='accuracy', cv=kfold)\n",
        "print(\"Accuracy: \" + str(results_kfold.mean())) "
      ],
      "execution_count": null,
      "outputs": [
        {
          "output_type": "stream",
          "text": [
            "Accuracy: 0.840285594471788\n"
          ],
          "name": "stdout"
        }
      ]
    },
    {
      "cell_type": "markdown",
      "metadata": {
        "id": "F9f69ZvLMB3K"
      },
      "source": [
        "Output split dataset sizes\n",
        "\n",
        "\n"
      ]
    },
    {
      "cell_type": "code",
      "metadata": {
        "id": "d4-hlms_MFMr",
        "colab": {
          "base_uri": "https://localhost:8080/"
        },
        "outputId": "7c7b86b3-0b62-416b-8a05-0bc60a48bff2"
      },
      "source": [
        "print(\"X_train_shape : \",X_train.shape)\n",
        "print(\"X_test_shape : \",X_test.shape)\n",
        "print(\"y_train_shape : \",y_train.shape)\n",
        "print(\"y_test_shape : \",y_test.shape)"
      ],
      "execution_count": 12,
      "outputs": [
        {
          "output_type": "stream",
          "text": [
            "X_train_shape :  (57056, 289570)\n",
            "X_test_shape :  (14264, 289570)\n",
            "y_train_shape :  (57056,)\n",
            "y_test_shape :  (14264,)\n"
          ],
          "name": "stdout"
        }
      ]
    },
    {
      "cell_type": "markdown",
      "metadata": {
        "id": "tXWwAxDwMLJR"
      },
      "source": [
        "Multinominal Naive Bayes Classifier"
      ]
    },
    {
      "cell_type": "code",
      "metadata": {
        "id": "Q9IR7TDFQrLs"
      },
      "source": [
        "model_naive = MultinomialNB().fit(X_train, y_train) \n",
        "predicted_naive = model_naive.predict(X_test)"
      ],
      "execution_count": 13,
      "outputs": []
    },
    {
      "cell_type": "markdown",
      "metadata": {
        "id": "__ha2xqDQugN"
      },
      "source": [
        "Confusion Matrix"
      ]
    },
    {
      "cell_type": "code",
      "metadata": {
        "id": "RDGtEzarQwwQ",
        "colab": {
          "base_uri": "https://localhost:8080/",
          "height": 404
        },
        "outputId": "71fbf53e-34f8-4f7b-f41f-7219349a2c2f"
      },
      "source": [
        "plt.figure(dpi=100) #plot high quality matrix\n",
        "mat = confusion_matrix(y_test, predicted_naive)\n",
        "sns.heatmap(mat.T, annot=True, fmt='d', cbar=False)\n",
        "\n",
        "plt.title('Confusion Matrix for Naive Bayes')\n",
        "plt.xlabel('true label')\n",
        "plt.ylabel('predicted label')\n",
        "#plt.savefig(\"assets/confusion_matrix.png\")\n",
        "plt.show()"
      ],
      "execution_count": 14,
      "outputs": [
        {
          "output_type": "display_data",
          "data": {
            "image/png": "[encoded data removed]",
            "text/plain": [
              "<Figure size 600x400 with 1 Axes>"
            ]
          },
          "metadata": {
            "tags": [],
            "needs_background": "light"
          }
        }
      ]
    },
    {
      "cell_type": "markdown",
      "metadata": {
        "id": "zQ6vlpafgBLs"
      },
      "source": [
        "Normalized Confusion Matrix"
      ]
    },
    {
      "cell_type": "code",
      "metadata": {
        "id": "GqfavkMFfBqm",
        "colab": {
          "base_uri": "https://localhost:8080/",
          "height": 621
        },
        "outputId": "ee141149-cfa1-49b5-b694-f7b87db3b4b3"
      },
      "source": [
        "cm = confusion_matrix(y_test, predicted_naive)\n",
        "\n",
        "# Normalise\n",
        "cmn = cm.astype('float') / cm.sum(axis=1)[:, np.newaxis]\n",
        "fig, ax = plt.subplots(figsize=(10,10))\n",
        "sns.heatmap(cmn, annot=True, fmt='.2f')\n",
        "plt.title('Normalized Confusion Matrix for Naive Bayes')\n",
        "plt.xlabel('predicted label')\n",
        "plt.ylabel('true label')\n",
        "plt.show(block=False)"
      ],
      "execution_count": 24,
      "outputs": [
        {
          "output_type": "display_data",
          "data": {
            "image/png": "[encoded data removed]",
            "text/plain": [
              "<Figure size 720x720 with 2 Axes>"
            ]
          },
          "metadata": {
            "tags": [],
            "needs_background": "light"
          }
        }
      ]
    },
    {
      "cell_type": "markdown",
      "metadata": {
        "id": "vDjEu3grSFJX"
      },
      "source": [
        "Accuracy of Naive Bayes Classifier"
      ]
    },
    {
      "cell_type": "code",
      "metadata": {
        "colab": {
          "base_uri": "https://localhost:8080/"
        },
        "id": "YYmx8Qk3SIwn",
        "outputId": "6c01ae7d-7b47-456b-c790-d5eb910869e4"
      },
      "source": [
        "score_naive = accuracy_score(predicted_naive, y_test)\n",
        "print(\"Accuracy with Naive-bayes: \",score_naive)"
      ],
      "execution_count": 15,
      "outputs": [
        {
          "output_type": "stream",
          "text": [
            "Accuracy with Naive-bayes:  0.8738081884464386\n"
          ],
          "name": "stdout"
        }
      ]
    },
    {
      "cell_type": "markdown",
      "metadata": {
        "id": "yXSLANrNS0_5"
      },
      "source": [
        "Precision, Recall, and Accuracy\n",
        "\n"
      ]
    },
    {
      "cell_type": "code",
      "metadata": {
        "id": "Jxw5iuLuS3tb",
        "colab": {
          "base_uri": "https://localhost:8080/"
        },
        "outputId": "1c19efd0-cedd-48ac-a425-dff7291c8ea7"
      },
      "source": [
        "print(classification_report(y_test, predicted_naive))"
      ],
      "execution_count": 16,
      "outputs": [
        {
          "output_type": "stream",
          "text": [
            "              precision    recall  f1-score   support\n",
            "\n",
            "           0       0.70      0.87      0.78      3594\n",
            "           1       0.95      0.87      0.91     10670\n",
            "\n",
            "    accuracy                           0.87     14264\n",
            "   macro avg       0.83      0.87      0.84     14264\n",
            "weighted avg       0.89      0.87      0.88     14264\n",
            "\n"
          ],
          "name": "stdout"
        }
      ]
    },
    {
      "cell_type": "markdown",
      "metadata": {
        "id": "3jh-wE3enVXN"
      },
      "source": [
        "ROC curve"
      ]
    },
    {
      "cell_type": "code",
      "metadata": {
        "colab": {
          "base_uri": "https://localhost:8080/",
          "height": 404
        },
        "id": "EwjfhOcknTyU",
        "outputId": "74abef10-a188-4cda-bedf-085d295ab8c9"
      },
      "source": [
        "# calculates the fpr and tpr for the classifications\n",
        "fpr, tpr, threshold = roc_curve(y_test, predicted_naive)\n",
        "roc_auc = auc(fpr, tpr)\n",
        "plt.figure(dpi=100)                       # this plots a high quality graph\n",
        "plt.title('Receiver Operating Characteristic')\n",
        "plt.plot(fpr, tpr, 'b', label = 'AUC = %0.2f' % roc_auc)\n",
        "plt.legend(loc = 'lower right')\n",
        "plt.plot([0, 1], [0, 1],'r--')\n",
        "plt.ylabel('True Positive Rate', color='g')\n",
        "plt.xlabel('False Positive Rate', color='r')\n",
        "plt.show()"
      ],
      "execution_count": 23,
      "outputs": [
        {
          "output_type": "display_data",
          "data": {
            "image/png": "[encoded data removed]",
            "text/plain": [
              "<Figure size 600x400 with 1 Axes>"
            ]
          },
          "metadata": {
            "tags": [],
            "needs_background": "light"
          }
        }
      ]
    }
  ]
}